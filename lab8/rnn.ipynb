{
  "cells": [
    {
      "cell_type": "markdown",
      "metadata": {
        "id": "view-in-github",
        "colab_type": "text"
      },
      "source": [
        "<a href=\"https://colab.research.google.com/github/Shrutikapedamkar/CE888/blob/main/lab8/rnn.ipynb\" target=\"_parent\"><img src=\"https://colab.research.google.com/assets/colab-badge.svg\" alt=\"Open In Colab\"/></a>"
      ]
    },
    {
      "cell_type": "markdown",
      "source": [
        "# Learning from Sequences: Timeseries and Text\n",
        "\n",
        "Created by Dr Ana Matran-Fernandez (amatra@essex.ac.uk) for CE888 (Data Science and Decision Making)\n",
        "\n",
        "This notebook accompanies lecture 8 and illustrates recurrent neural networks on an example of a timeseries (predicting tomorrow's temperature) and a classification problem on the IMDB text dataset."
      ],
      "metadata": {
        "id": "gS1IIAS-bcb-"
      }
    },
    {
      "cell_type": "markdown",
      "source": [
        "# Imports"
      ],
      "metadata": {
        "id": "0myiQp20cxRK"
      }
    },
    {
      "cell_type": "code",
      "execution_count": 1,
      "metadata": {
        "id": "1J0bYBQ7_a0L"
      },
      "outputs": [],
      "source": [
        "# imports\n",
        "import numpy as np\n",
        "import matplotlib.pyplot as plt\n",
        "import os\n",
        "import pandas as pd\n",
        "from sklearn.model_selection import train_test_split"
      ]
    },
    {
      "cell_type": "code",
      "execution_count": 52,
      "metadata": {
        "id": "U0NPDv7X_a0M",
        "outputId": "0b097ae1-5fa2-4ae4-a92c-f6f2b8b4ff52",
        "colab": {
          "base_uri": "https://localhost:8080/"
        }
      },
      "outputs": [
        {
          "output_type": "stream",
          "name": "stdout",
          "text": [
            "Drive already mounted at /content/drive; to attempt to forcibly remount, call drive.mount(\"/content/drive\", force_remount=True).\n"
          ]
        }
      ],
      "source": [
        "# tensorflow imports\n",
        "from tensorflow import keras\n",
        "from keras import layers, models\n",
        "from keras.callbacks import EarlyStopping, ModelCheckpoint\n",
        "\n",
        "from google.colab import drive\n",
        "drive.mount('/content/drive')"
      ]
    },
    {
      "cell_type": "markdown",
      "source": [
        "# Timeseries"
      ],
      "metadata": {
        "id": "xaiw_VZjbtSH"
      }
    },
    {
      "cell_type": "code",
      "execution_count": 3,
      "metadata": {
        "colab": {
          "base_uri": "https://localhost:8080/",
          "height": 423
        },
        "id": "iA_R1Q-K_a0N",
        "outputId": "c2666ef3-7539-439e-d1d4-098406ed8e4f"
      },
      "outputs": [
        {
          "output_type": "execute_result",
          "data": {
            "text/plain": [
              "                  date  radiation_avg  precip  wind_avg  wind_max  temp_avg  \\\n",
              "0     14/05/2014 00:00            159     0.0       1.4       3.3     14.27   \n",
              "1     15/05/2014 00:00            280     0.0       0.6       2.3     13.51   \n",
              "2     16/05/2014 00:00            186     3.4       0.8       2.7     15.65   \n",
              "3     17/05/2014 00:00            221     0.0       1.0       3.3     17.46   \n",
              "4     18/05/2014 00:00            255     0.0       2.1       5.5     16.85   \n",
              "...                ...            ...     ...       ...       ...       ...   \n",
              "2551  17/05/2021 00:00            196     1.4       2.2       5.5     10.51   \n",
              "2552  17/05/2021 00:00            173     2.8       1.8       5.5     10.80   \n",
              "2553  18/05/2021 00:00            311     0.0       1.4       5.0     10.29   \n",
              "2554  19/05/2021 00:00            232     6.6       1.8       5.5     11.39   \n",
              "2555  20/05/2021 00:00             44     0.0       0.5       2.7      6.35   \n",
              "\n",
              "      humidity_avg  \n",
              "0            64.95  \n",
              "1            72.91  \n",
              "2            74.69  \n",
              "3            71.42  \n",
              "4            74.45  \n",
              "...            ...  \n",
              "2551         99.86  \n",
              "2552         99.86  \n",
              "2553         92.94  \n",
              "2554         90.32  \n",
              "2555         99.86  \n",
              "\n",
              "[2556 rows x 7 columns]"
            ],
            "text/html": [
              "\n",
              "  <div id=\"df-04182a67-1364-4362-b5c1-83eb9d552cb9\">\n",
              "    <div class=\"colab-df-container\">\n",
              "      <div>\n",
              "<style scoped>\n",
              "    .dataframe tbody tr th:only-of-type {\n",
              "        vertical-align: middle;\n",
              "    }\n",
              "\n",
              "    .dataframe tbody tr th {\n",
              "        vertical-align: top;\n",
              "    }\n",
              "\n",
              "    .dataframe thead th {\n",
              "        text-align: right;\n",
              "    }\n",
              "</style>\n",
              "<table border=\"1\" class=\"dataframe\">\n",
              "  <thead>\n",
              "    <tr style=\"text-align: right;\">\n",
              "      <th></th>\n",
              "      <th>date</th>\n",
              "      <th>radiation_avg</th>\n",
              "      <th>precip</th>\n",
              "      <th>wind_avg</th>\n",
              "      <th>wind_max</th>\n",
              "      <th>temp_avg</th>\n",
              "      <th>humidity_avg</th>\n",
              "    </tr>\n",
              "  </thead>\n",
              "  <tbody>\n",
              "    <tr>\n",
              "      <th>0</th>\n",
              "      <td>14/05/2014 00:00</td>\n",
              "      <td>159</td>\n",
              "      <td>0.0</td>\n",
              "      <td>1.4</td>\n",
              "      <td>3.3</td>\n",
              "      <td>14.27</td>\n",
              "      <td>64.95</td>\n",
              "    </tr>\n",
              "    <tr>\n",
              "      <th>1</th>\n",
              "      <td>15/05/2014 00:00</td>\n",
              "      <td>280</td>\n",
              "      <td>0.0</td>\n",
              "      <td>0.6</td>\n",
              "      <td>2.3</td>\n",
              "      <td>13.51</td>\n",
              "      <td>72.91</td>\n",
              "    </tr>\n",
              "    <tr>\n",
              "      <th>2</th>\n",
              "      <td>16/05/2014 00:00</td>\n",
              "      <td>186</td>\n",
              "      <td>3.4</td>\n",
              "      <td>0.8</td>\n",
              "      <td>2.7</td>\n",
              "      <td>15.65</td>\n",
              "      <td>74.69</td>\n",
              "    </tr>\n",
              "    <tr>\n",
              "      <th>3</th>\n",
              "      <td>17/05/2014 00:00</td>\n",
              "      <td>221</td>\n",
              "      <td>0.0</td>\n",
              "      <td>1.0</td>\n",
              "      <td>3.3</td>\n",
              "      <td>17.46</td>\n",
              "      <td>71.42</td>\n",
              "    </tr>\n",
              "    <tr>\n",
              "      <th>4</th>\n",
              "      <td>18/05/2014 00:00</td>\n",
              "      <td>255</td>\n",
              "      <td>0.0</td>\n",
              "      <td>2.1</td>\n",
              "      <td>5.5</td>\n",
              "      <td>16.85</td>\n",
              "      <td>74.45</td>\n",
              "    </tr>\n",
              "    <tr>\n",
              "      <th>...</th>\n",
              "      <td>...</td>\n",
              "      <td>...</td>\n",
              "      <td>...</td>\n",
              "      <td>...</td>\n",
              "      <td>...</td>\n",
              "      <td>...</td>\n",
              "      <td>...</td>\n",
              "    </tr>\n",
              "    <tr>\n",
              "      <th>2551</th>\n",
              "      <td>17/05/2021 00:00</td>\n",
              "      <td>196</td>\n",
              "      <td>1.4</td>\n",
              "      <td>2.2</td>\n",
              "      <td>5.5</td>\n",
              "      <td>10.51</td>\n",
              "      <td>99.86</td>\n",
              "    </tr>\n",
              "    <tr>\n",
              "      <th>2552</th>\n",
              "      <td>17/05/2021 00:00</td>\n",
              "      <td>173</td>\n",
              "      <td>2.8</td>\n",
              "      <td>1.8</td>\n",
              "      <td>5.5</td>\n",
              "      <td>10.80</td>\n",
              "      <td>99.86</td>\n",
              "    </tr>\n",
              "    <tr>\n",
              "      <th>2553</th>\n",
              "      <td>18/05/2021 00:00</td>\n",
              "      <td>311</td>\n",
              "      <td>0.0</td>\n",
              "      <td>1.4</td>\n",
              "      <td>5.0</td>\n",
              "      <td>10.29</td>\n",
              "      <td>92.94</td>\n",
              "    </tr>\n",
              "    <tr>\n",
              "      <th>2554</th>\n",
              "      <td>19/05/2021 00:00</td>\n",
              "      <td>232</td>\n",
              "      <td>6.6</td>\n",
              "      <td>1.8</td>\n",
              "      <td>5.5</td>\n",
              "      <td>11.39</td>\n",
              "      <td>90.32</td>\n",
              "    </tr>\n",
              "    <tr>\n",
              "      <th>2555</th>\n",
              "      <td>20/05/2021 00:00</td>\n",
              "      <td>44</td>\n",
              "      <td>0.0</td>\n",
              "      <td>0.5</td>\n",
              "      <td>2.7</td>\n",
              "      <td>6.35</td>\n",
              "      <td>99.86</td>\n",
              "    </tr>\n",
              "  </tbody>\n",
              "</table>\n",
              "<p>2556 rows × 7 columns</p>\n",
              "</div>\n",
              "      <button class=\"colab-df-convert\" onclick=\"convertToInteractive('df-04182a67-1364-4362-b5c1-83eb9d552cb9')\"\n",
              "              title=\"Convert this dataframe to an interactive table.\"\n",
              "              style=\"display:none;\">\n",
              "        \n",
              "  <svg xmlns=\"http://www.w3.org/2000/svg\" height=\"24px\"viewBox=\"0 0 24 24\"\n",
              "       width=\"24px\">\n",
              "    <path d=\"M0 0h24v24H0V0z\" fill=\"none\"/>\n",
              "    <path d=\"M18.56 5.44l.94 2.06.94-2.06 2.06-.94-2.06-.94-.94-2.06-.94 2.06-2.06.94zm-11 1L8.5 8.5l.94-2.06 2.06-.94-2.06-.94L8.5 2.5l-.94 2.06-2.06.94zm10 10l.94 2.06.94-2.06 2.06-.94-2.06-.94-.94-2.06-.94 2.06-2.06.94z\"/><path d=\"M17.41 7.96l-1.37-1.37c-.4-.4-.92-.59-1.43-.59-.52 0-1.04.2-1.43.59L10.3 9.45l-7.72 7.72c-.78.78-.78 2.05 0 2.83L4 21.41c.39.39.9.59 1.41.59.51 0 1.02-.2 1.41-.59l7.78-7.78 2.81-2.81c.8-.78.8-2.07 0-2.86zM5.41 20L4 18.59l7.72-7.72 1.47 1.35L5.41 20z\"/>\n",
              "  </svg>\n",
              "      </button>\n",
              "      \n",
              "  <style>\n",
              "    .colab-df-container {\n",
              "      display:flex;\n",
              "      flex-wrap:wrap;\n",
              "      gap: 12px;\n",
              "    }\n",
              "\n",
              "    .colab-df-convert {\n",
              "      background-color: #E8F0FE;\n",
              "      border: none;\n",
              "      border-radius: 50%;\n",
              "      cursor: pointer;\n",
              "      display: none;\n",
              "      fill: #1967D2;\n",
              "      height: 32px;\n",
              "      padding: 0 0 0 0;\n",
              "      width: 32px;\n",
              "    }\n",
              "\n",
              "    .colab-df-convert:hover {\n",
              "      background-color: #E2EBFA;\n",
              "      box-shadow: 0px 1px 2px rgba(60, 64, 67, 0.3), 0px 1px 3px 1px rgba(60, 64, 67, 0.15);\n",
              "      fill: #174EA6;\n",
              "    }\n",
              "\n",
              "    [theme=dark] .colab-df-convert {\n",
              "      background-color: #3B4455;\n",
              "      fill: #D2E3FC;\n",
              "    }\n",
              "\n",
              "    [theme=dark] .colab-df-convert:hover {\n",
              "      background-color: #434B5C;\n",
              "      box-shadow: 0px 1px 3px 1px rgba(0, 0, 0, 0.15);\n",
              "      filter: drop-shadow(0px 1px 2px rgba(0, 0, 0, 0.3));\n",
              "      fill: #FFFFFF;\n",
              "    }\n",
              "  </style>\n",
              "\n",
              "      <script>\n",
              "        const buttonEl =\n",
              "          document.querySelector('#df-04182a67-1364-4362-b5c1-83eb9d552cb9 button.colab-df-convert');\n",
              "        buttonEl.style.display =\n",
              "          google.colab.kernel.accessAllowed ? 'block' : 'none';\n",
              "\n",
              "        async function convertToInteractive(key) {\n",
              "          const element = document.querySelector('#df-04182a67-1364-4362-b5c1-83eb9d552cb9');\n",
              "          const dataTable =\n",
              "            await google.colab.kernel.invokeFunction('convertToInteractive',\n",
              "                                                     [key], {});\n",
              "          if (!dataTable) return;\n",
              "\n",
              "          const docLinkHtml = 'Like what you see? Visit the ' +\n",
              "            '<a target=\"_blank\" href=https://colab.research.google.com/notebooks/data_table.ipynb>data table notebook</a>'\n",
              "            + ' to learn more about interactive tables.';\n",
              "          element.innerHTML = '';\n",
              "          dataTable['output_type'] = 'display_data';\n",
              "          await google.colab.output.renderOutput(dataTable, element);\n",
              "          const docLink = document.createElement('div');\n",
              "          docLink.innerHTML = docLinkHtml;\n",
              "          element.appendChild(docLink);\n",
              "        }\n",
              "      </script>\n",
              "    </div>\n",
              "  </div>\n",
              "  "
            ]
          },
          "metadata": {},
          "execution_count": 3
        }
      ],
      "source": [
        "df = pd.read_csv('https://raw.githubusercontent.com/albanda/CE888/master/lab8/weather.csv')\n",
        "df.drop(['temp_max', 'temp_min'], axis=1, inplace=True)\n",
        "df"
      ]
    },
    {
      "cell_type": "code",
      "execution_count": 4,
      "metadata": {
        "colab": {
          "base_uri": "https://localhost:8080/",
          "height": 279
        },
        "id": "nzsytNAh_a0N",
        "outputId": "71e79147-f03e-4d7f-fa1d-91bdbbf3e93c"
      },
      "outputs": [
        {
          "output_type": "display_data",
          "data": {
            "text/plain": [
              "<Figure size 432x288 with 1 Axes>"
            ],
            "image/png": "[encoded data removed]"
          },
          "metadata": {
            "needs_background": "light"
          }
        }
      ],
      "source": [
        "plt.plot(range(len(df)), df['temp_avg'])\n",
        "plt.xlabel('Temporal range')\n",
        "plt.ylabel('Average temperature (C) (7 years)')\n",
        "plt.savefig('temperature_over_time.pdf', bbox_inches='tight')"
      ]
    },
    {
      "cell_type": "code",
      "execution_count": 5,
      "metadata": {
        "colab": {
          "base_uri": "https://localhost:8080/",
          "height": 279
        },
        "id": "ysbM2n99_a0N",
        "outputId": "dcfc23e5-a7a3-4aeb-8ebc-b3c0d4f5c30e"
      },
      "outputs": [
        {
          "output_type": "display_data",
          "data": {
            "text/plain": [
              "<Figure size 432x288 with 1 Axes>"
            ],
            "image/png": "[encoded data removed]"
          },
          "metadata": {
            "needs_background": "light"
          }
        }
      ],
      "source": [
        "# Look at the first 2 years\n",
        "length = 2*365\n",
        "plt.plot(range(length), df['temp_avg'][:length])\n",
        "plt.xlabel('Temporal range')\n",
        "plt.ylabel('Average temperature (C) (2 years)')\n",
        "plt.savefig('temperature_over_time_2y.pdf', bbox_inches='tight')"
      ]
    },
    {
      "cell_type": "markdown",
      "metadata": {
        "id": "ikyqi2m7_a0O"
      },
      "source": [
        "We have clear periodicity every year. In the previous plot we saw 7 cycles (7 years). Here we see 2.\n",
        "\n",
        "Always look for periodicity in your timeseries. There will always be daily and yearly cycles. Check these patterns.\n",
        "\n",
        "Another issue with timeseries is dividing the dataset into train/validation/test sets. We definitely cannot shuffle the data, and we need to be very careful with data leakage (using data from the future)."
      ]
    },
    {
      "cell_type": "markdown",
      "metadata": {
        "id": "1fxuW2ne_a0P"
      },
      "source": [
        "## Data prep\n",
        "\n",
        "We'll try to predict the average temperature of tomorrow based on data from the past.\n",
        "\n",
        "To avoid data leakage, we're going to use a simple approach: use the first 50% of data for training, the next 30% for validation, and the final 20% for testing.\n"
      ]
    },
    {
      "cell_type": "code",
      "execution_count": 6,
      "metadata": {
        "colab": {
          "base_uri": "https://localhost:8080/"
        },
        "id": "vofGsYen_a0P",
        "outputId": "7303dc0b-a796-40a5-e27a-5beae6bea05b"
      },
      "outputs": [
        {
          "output_type": "stream",
          "name": "stdout",
          "text": [
            "Samples for training: 1278; validation: 766; test: 512\n"
          ]
        }
      ],
      "source": [
        "n_tr, n_val = int(0.5*len(df)), int(0.3*len(df))\n",
        "n_te = len(df) - n_tr - n_val\n",
        "print('Samples for training: %d; validation: %d; test: %d' % (n_tr, n_val, n_te))"
      ]
    },
    {
      "cell_type": "code",
      "execution_count": 7,
      "metadata": {
        "colab": {
          "base_uri": "https://localhost:8080/"
        },
        "id": "lsMDT2Jq_a0P",
        "outputId": "3f18dbed-3c05-4459-8aef-a4f5d79bb4c0"
      },
      "outputs": [
        {
          "output_type": "stream",
          "name": "stdout",
          "text": [
            "(2556, 6)\n"
          ]
        }
      ],
      "source": [
        "# Get the data from the dataframe (dropping date column)\n",
        "data = df.iloc[:, 1:].values\n",
        "print(data.shape)\n",
        "assert data.shape[0] == len(df)\n",
        "assert data.shape[1] == len(df.columns)-1, \"Are you sure you're dropping the date?\"\n",
        "# We need to normalise our time series. Calculate mean and std from TRAINING DATA ONLY. \n",
        "# We'll use it on the validation and test sets.\n",
        "mean_tr = data[:n_tr, :].mean(axis=0)\n",
        "std_tr = data[:n_tr, :].std(axis=0)\n",
        "data = (data - mean_tr) / std_tr\n",
        "\n",
        "\n",
        "y = df['temp_avg'].values.reshape(-1, 1)\n",
        "\n",
        "# index of the column that contains the avg_temp\n",
        "y_idx = 4"
      ]
    },
    {
      "cell_type": "code",
      "source": [
        "data[:20, y_idx] * std_tr[y_idx] + mean_tr[y_idx]"
      ],
      "metadata": {
        "colab": {
          "base_uri": "https://localhost:8080/"
        },
        "id": "1VJAcdfICLi1",
        "outputId": "700e7d23-9f97-4449-ceed-6e186737d61b"
      },
      "execution_count": 8,
      "outputs": [
        {
          "output_type": "execute_result",
          "data": {
            "text/plain": [
              "array([14.27, 13.51, 15.65, 17.46, 16.85, 18.26, 17.35, 15.55, 14.52,\n",
              "       13.93, 11.48, 13.63, 12.81, 12.4 , 13.67, 14.15, 13.22, 12.21,\n",
              "       15.53, 14.52])"
            ]
          },
          "metadata": {},
          "execution_count": 8
        }
      ]
    },
    {
      "cell_type": "code",
      "source": [
        "y[5:25]"
      ],
      "metadata": {
        "colab": {
          "base_uri": "https://localhost:8080/"
        },
        "id": "xN-YJyEeCUv9",
        "outputId": "263405fb-f0f5-446c-d986-5f2b8b5983bf"
      },
      "execution_count": 9,
      "outputs": [
        {
          "output_type": "execute_result",
          "data": {
            "text/plain": [
              "array([[18.26],\n",
              "       [17.35],\n",
              "       [15.55],\n",
              "       [14.52],\n",
              "       [13.93],\n",
              "       [11.48],\n",
              "       [13.63],\n",
              "       [12.81],\n",
              "       [12.4 ],\n",
              "       [13.67],\n",
              "       [14.15],\n",
              "       [13.22],\n",
              "       [12.21],\n",
              "       [15.53],\n",
              "       [14.52],\n",
              "       [15.35],\n",
              "       [12.29],\n",
              "       [13.88],\n",
              "       [15.13],\n",
              "       [17.29]])"
            ]
          },
          "metadata": {},
          "execution_count": 9
        }
      ]
    },
    {
      "cell_type": "code",
      "execution_count": 10,
      "metadata": {
        "id": "K_JGeiAs_a0Q"
      },
      "outputs": [],
      "source": [
        "# We'll use a Dataset from keras to pass our data\n",
        "sampling_rate = 1  # we keep all data points\n",
        "sequence_length = 14  # 2 weeks to predict tomorrow's temperature\n",
        "delay = sampling_rate * sequence_length  # the target is the day after the end of the sequence\n",
        "batch_size = 16"
      ]
    },
    {
      "cell_type": "code",
      "execution_count": 11,
      "metadata": {
        "colab": {
          "base_uri": "https://localhost:8080/"
        },
        "id": "cRDGWNYl_a0Q",
        "outputId": "4aabf52d-b2f5-402f-e2e1-fa21f881fece"
      },
      "outputs": [
        {
          "output_type": "stream",
          "name": "stdout",
          "text": [
            "X shape: (16, 14, 6)\n",
            "target shape: (16, 1)\n"
          ]
        }
      ],
      "source": [
        "train_dataset = keras.utils.timeseries_dataset_from_array(\n",
        "    data[:-delay],\n",
        "    targets=y[delay:],\n",
        "    sampling_rate=sampling_rate, sequence_length=sequence_length,\n",
        "    batch_size=batch_size,\n",
        "    start_index=0, end_index=n_tr  # first 50% for training\n",
        "    )\n",
        "\n",
        "val_dataset = keras.utils.timeseries_dataset_from_array(\n",
        "    data[:-delay],\n",
        "    targets=y[delay:],\n",
        "    sampling_rate=sampling_rate, sequence_length=sequence_length,\n",
        "    batch_size=batch_size,\n",
        "    start_index=n_tr, end_index=n_tr+n_val  # 50%-80% for validation\n",
        "    )\n",
        "\n",
        "test_dataset = keras.utils.timeseries_dataset_from_array(\n",
        "    data[:-delay],\n",
        "    targets=y[delay:],\n",
        "    sampling_rate=sampling_rate, sequence_length=sequence_length,\n",
        "    batch_size=batch_size,\n",
        "    start_index=n_tr+n_val  # last 20% for test\n",
        "    )\n",
        "\n",
        "for X, target in train_dataset:\n",
        "    print(\"X shape:\", X.shape)\n",
        "    print(\"target shape:\", target.shape)\n",
        "    #print(X[:, :, y_idx] * std_tr[y_idx] + mean_tr[y_idx])\n",
        "    #print(target)\n",
        "    break  # so we only print once"
      ]
    },
    {
      "cell_type": "code",
      "source": [
        "# Function to plot history with neural networks\n",
        "def plot_hist_regression(hist, y):\n",
        "  n_ = len(hist.history['mae'])\n",
        "  plt.plot(range(1, n_+1), np.asarray(hist.history['mae']), 'bo', label='MAE on training set')\n",
        "  plt.plot(range(1, n_+1), np.asarray(hist.history['val_mae']), 'b', label='MAE on validation set')\n",
        "  plt.legend()\n",
        "  plt.xlabel(\"Epoch\") \n",
        "  plt.ylabel(\"MAE (degrees)\")\n",
        "  plt.axhline(y=y)\n",
        "  plt.show()\n"
      ],
      "metadata": {
        "id": "u_v2rAW_W4kQ"
      },
      "execution_count": 12,
      "outputs": []
    },
    {
      "cell_type": "markdown",
      "metadata": {
        "id": "WlhjIvZR_a0Q"
      },
      "source": [
        "## Establishing a baseline\n"
      ]
    },
    {
      "cell_type": "markdown",
      "source": [
        "### Common sense, no ML baseline\n",
        "\n",
        "- Sanity check\n",
        "- To establish whether ML methods are actually any good\n",
        "\n",
        "Tomorrow's temperature is likely to be close to today's: let's predict that the temperature 24 hours from now will be equal to the temperature right now.\n",
        "\n",
        "We'll use the MAE as metric"
      ],
      "metadata": {
        "id": "rloJamyvWPWj"
      }
    },
    {
      "cell_type": "code",
      "execution_count": 13,
      "metadata": {
        "colab": {
          "base_uri": "https://localhost:8080/"
        },
        "id": "MUY5acIf_a0Q",
        "outputId": "2291c06d-ba7f-4d82-e22c-4f2e8b528b6f"
      },
      "outputs": [
        {
          "output_type": "stream",
          "name": "stdout",
          "text": [
            "MAE on train set = 2.56 (degrees Celsius)\n",
            "MAE on validation set = 2.69 (degrees Celsius)\n",
            "MAE on test set = 2.85 (degrees Celsius)\n"
          ]
        }
      ],
      "source": [
        "def naive_method(dataset, mean, std):\n",
        "    error = 0\n",
        "    samples = 0\n",
        "    count = 0\n",
        "    for X, target in dataset:\n",
        "        pred = X[:, -1, y_idx] * std + mean  # predict last available temperature and un-standardise\n",
        "        #print(X.shape, target.shape, pred.shape)  # [batch_size, sequence_length, n_feats]\n",
        "        #print(X[:, -1, y_idx] * std + mean, target)\n",
        "        error += np.sum(np.abs(pred - target))\n",
        "        samples += X.shape[0]  # batch_size\n",
        "        count += 1\n",
        "    return error / samples / batch_size # average\n",
        "\n",
        "\n",
        "print('MAE on train set = %.2f (degrees Celsius)' % naive_method(train_dataset, mean_tr[y_idx], std_tr[y_idx]))\n",
        "print('MAE on validation set = %.2f (degrees Celsius)' % naive_method(val_dataset, mean_tr[y_idx], std_tr[y_idx]))\n",
        "print('MAE on test set = %.2f (degrees Celsius)' % naive_method(test_dataset, mean_tr[y_idx], std_tr[y_idx]))\n",
        "# Save MAE on validation for later\n",
        "baseline = naive_method(val_dataset, mean_tr[y_idx], std_tr[y_idx])"
      ]
    },
    {
      "cell_type": "markdown",
      "source": [
        "This baseline achieves a validation MAE of 2.69 degrees and a test MAE of 2.85 degrees. So if we assume that tomorrow's temperature will be the same as today's, we'll be off by less than 3 degrees on average.\n",
        "\n",
        "Not too bad, but surely we can do better!"
      ],
      "metadata": {
        "id": "znycUtxiJmAF"
      }
    },
    {
      "cell_type": "markdown",
      "metadata": {
        "id": "7c-duA1Z_a0R"
      },
      "source": [
        "### Simple ML baseline\n",
        "\n",
        "\n"
      ]
    },
    {
      "cell_type": "code",
      "source": [
        "# To get some practice with neural networks, we'll try a 1-layer NN with nothing fancy.\n",
        "\n",
        "model_dense = models.Sequential()\n",
        "model_dense.add(layers.Flatten(input_shape=(sequence_length, len(df.columns)-1)))  # we need to specify the input shape or we won't be able to see the summary\n",
        "model_dense.add(layers.Dense(10, activation='relu'))\n",
        "model_dense.add(layers.Dense(1))\n",
        "\n",
        "model_dense.summary()"
      ],
      "metadata": {
        "colab": {
          "base_uri": "https://localhost:8080/"
        },
        "id": "fWGqpICHJlRe",
        "outputId": "5f53e27a-dd0c-4747-905a-9e92aa92d797"
      },
      "execution_count": 14,
      "outputs": [
        {
          "output_type": "stream",
          "name": "stdout",
          "text": [
            "Model: \"sequential\"\n",
            "_________________________________________________________________\n",
            " Layer (type)                Output Shape              Param #   \n",
            "=================================================================\n",
            " flatten (Flatten)           (None, 84)                0         \n",
            "                                                                 \n",
            " dense (Dense)               (None, 10)                850       \n",
            "                                                                 \n",
            " dense_1 (Dense)             (None, 1)                 11        \n",
            "                                                                 \n",
            "=================================================================\n",
            "Total params: 861\n",
            "Trainable params: 861\n",
            "Non-trainable params: 0\n",
            "_________________________________________________________________\n"
          ]
        }
      ]
    },
    {
      "cell_type": "code",
      "source": [
        "n_epochs = 20\n",
        "\n",
        "model_dense.compile(optimizer='rmsprop', loss='mse', metrics=['mae'])\n",
        "history_dense = model_dense.fit(train_dataset, epochs=n_epochs, validation_data=val_dataset)"
      ],
      "metadata": {
        "colab": {
          "base_uri": "https://localhost:8080/"
        },
        "id": "p0Hz1rX8LMfT",
        "outputId": "0b01a107-09ea-4ec9-e08a-b70d967443e9"
      },
      "execution_count": 15,
      "outputs": [
        {
          "output_type": "stream",
          "name": "stdout",
          "text": [
            "Epoch 1/20\n",
            "80/80 [==============================] - 2s 12ms/step - loss: 142.9518 - mae: 10.7094 - val_loss: 125.1206 - val_mae: 9.6884\n",
            "Epoch 2/20\n",
            "80/80 [==============================] - 1s 8ms/step - loss: 116.1401 - mae: 9.5882 - val_loss: 96.9174 - val_mae: 8.4413\n",
            "Epoch 3/20\n",
            "80/80 [==============================] - 1s 7ms/step - loss: 85.0415 - mae: 8.1429 - val_loss: 67.2620 - val_mae: 6.9810\n",
            "Epoch 4/20\n",
            "80/80 [==============================] - 1s 7ms/step - loss: 56.8479 - mae: 6.5828 - val_loss: 43.8497 - val_mae: 5.5433\n",
            "Epoch 5/20\n",
            "80/80 [==============================] - 1s 7ms/step - loss: 38.0800 - mae: 5.2517 - val_loss: 31.3630 - val_mae: 4.5118\n",
            "Epoch 6/20\n",
            "80/80 [==============================] - 1s 8ms/step - loss: 30.2658 - mae: 4.5716 - val_loss: 27.1162 - val_mae: 4.1830\n",
            "Epoch 7/20\n",
            "80/80 [==============================] - 1s 6ms/step - loss: 27.3406 - mae: 4.3161 - val_loss: 25.4563 - val_mae: 4.0399\n",
            "Epoch 8/20\n",
            "80/80 [==============================] - 1s 7ms/step - loss: 25.2668 - mae: 4.1368 - val_loss: 24.0647 - val_mae: 3.9166\n",
            "Epoch 9/20\n",
            "80/80 [==============================] - 1s 9ms/step - loss: 23.3053 - mae: 3.9702 - val_loss: 22.6897 - val_mae: 3.7945\n",
            "Epoch 10/20\n",
            "80/80 [==============================] - 1s 8ms/step - loss: 21.4784 - mae: 3.8108 - val_loss: 21.3103 - val_mae: 3.6696\n",
            "Epoch 11/20\n",
            "80/80 [==============================] - 1s 9ms/step - loss: 19.7641 - mae: 3.6526 - val_loss: 19.8849 - val_mae: 3.5383\n",
            "Epoch 12/20\n",
            "80/80 [==============================] - 1s 6ms/step - loss: 18.1392 - mae: 3.4945 - val_loss: 18.5172 - val_mae: 3.4115\n",
            "Epoch 13/20\n",
            "80/80 [==============================] - 1s 6ms/step - loss: 16.6801 - mae: 3.3462 - val_loss: 17.2487 - val_mae: 3.2945\n",
            "Epoch 14/20\n",
            "80/80 [==============================] - 1s 8ms/step - loss: 15.3884 - mae: 3.2100 - val_loss: 16.0926 - val_mae: 3.1859\n",
            "Epoch 15/20\n",
            "80/80 [==============================] - 1s 7ms/step - loss: 14.2996 - mae: 3.0871 - val_loss: 15.0862 - val_mae: 3.0894\n",
            "Epoch 16/20\n",
            "80/80 [==============================] - 1s 6ms/step - loss: 13.3937 - mae: 2.9772 - val_loss: 14.2358 - val_mae: 3.0073\n",
            "Epoch 17/20\n",
            "80/80 [==============================] - 1s 7ms/step - loss: 12.6649 - mae: 2.8854 - val_loss: 13.5605 - val_mae: 2.9392\n",
            "Epoch 18/20\n",
            "80/80 [==============================] - 1s 8ms/step - loss: 12.0690 - mae: 2.8105 - val_loss: 13.0085 - val_mae: 2.8806\n",
            "Epoch 19/20\n",
            "80/80 [==============================] - 1s 8ms/step - loss: 11.5716 - mae: 2.7473 - val_loss: 12.5487 - val_mae: 2.8289\n",
            "Epoch 20/20\n",
            "80/80 [==============================] - 1s 7ms/step - loss: 11.1405 - mae: 2.6920 - val_loss: 12.1961 - val_mae: 2.7892\n"
          ]
        }
      ]
    },
    {
      "cell_type": "code",
      "source": [
        "# Plot MAE cures for validation and training\n",
        "plot_hist_regression(history_dense, baseline)"
      ],
      "metadata": {
        "colab": {
          "base_uri": "https://localhost:8080/",
          "height": 281
        },
        "id": "aBRYn-AKMCi4",
        "outputId": "6cf7d89d-679e-42c8-90af-4ddbec7a07d4"
      },
      "execution_count": 16,
      "outputs": [
        {
          "output_type": "display_data",
          "data": {
            "text/plain": [
              "<Figure size 432x288 with 1 Axes>"
            ],
            "image/png": "[encoded data removed]"
          },
          "metadata": {
            "needs_background": "light"
          }
        }
      ]
    },
    {
      "cell_type": "markdown",
      "source": [
        "Validation loss is worse than what we had with our common-sense baseline, and we're already overfitting (MAE on training set is lower than on validation set). It turns out our previous baseline is not as easy to outperform as we thought!\n",
        "\n",
        "Remember our 'hypothesis space'? Using 2 Dense layers doesn't seem to be very useful in this case. We need other types of layers for this problem."
      ],
      "metadata": {
        "id": "1EJywOA5NJa9"
      }
    },
    {
      "cell_type": "code",
      "source": [
        "# We know that CNNs take advantage of neighbouring values, so why don't we try that?\n",
        "\n",
        "# In addition to the Conv2D layers we saw last week, there are Conv1D and Conv3D layers. \n",
        "# Conv1D layers rely on 1D windows that slide across an input sequence (imagine a 1D image)\n",
        "\n",
        "model_cnn = models.Sequential()\n",
        "model_cnn.add(layers.Conv1D(8, 7, activation='relu', input_shape=(sequence_length, len(df.columns)-1)))\n",
        "model_cnn.add(layers.MaxPooling1D(2))\n",
        "model_cnn.add(layers.Conv1D(8, 3, activation='relu'))\n",
        "model_cnn.add(layers.MaxPooling1D(2))\n",
        "model_cnn.add(layers.GlobalAveragePooling1D())\n",
        "model_cnn.add(layers.Dense(1))\n",
        "\n",
        "model_cnn.summary()"
      ],
      "metadata": {
        "colab": {
          "base_uri": "https://localhost:8080/"
        },
        "id": "k6PADykQPIjq",
        "outputId": "9dbd574a-a857-4c09-fcef-cb53751dfeaf"
      },
      "execution_count": 17,
      "outputs": [
        {
          "output_type": "stream",
          "name": "stdout",
          "text": [
            "Model: \"sequential_1\"\n",
            "_________________________________________________________________\n",
            " Layer (type)                Output Shape              Param #   \n",
            "=================================================================\n",
            " conv1d (Conv1D)             (None, 8, 8)              344       \n",
            "                                                                 \n",
            " max_pooling1d (MaxPooling1D  (None, 4, 8)             0         \n",
            " )                                                               \n",
            "                                                                 \n",
            " conv1d_1 (Conv1D)           (None, 2, 8)              200       \n",
            "                                                                 \n",
            " max_pooling1d_1 (MaxPooling  (None, 1, 8)             0         \n",
            " 1D)                                                             \n",
            "                                                                 \n",
            " global_average_pooling1d (G  (None, 8)                0         \n",
            " lobalAveragePooling1D)                                          \n",
            "                                                                 \n",
            " dense_2 (Dense)             (None, 1)                 9         \n",
            "                                                                 \n",
            "=================================================================\n",
            "Total params: 553\n",
            "Trainable params: 553\n",
            "Non-trainable params: 0\n",
            "_________________________________________________________________\n"
          ]
        }
      ]
    },
    {
      "cell_type": "code",
      "source": [
        "model_cnn.compile(optimizer='rmsprop', loss='mse', metrics=['mae'])\n",
        "history_cnn = model_cnn.fit(train_dataset, epochs=n_epochs,\n",
        "                            validation_data=val_dataset)"
      ],
      "metadata": {
        "colab": {
          "base_uri": "https://localhost:8080/"
        },
        "id": "PSGRJSulQs22",
        "outputId": "d31f4894-0ad8-4071-cd31-d601a21f1da3"
      },
      "execution_count": 18,
      "outputs": [
        {
          "output_type": "stream",
          "name": "stdout",
          "text": [
            "Epoch 1/20\n",
            "80/80 [==============================] - 1s 9ms/step - loss: 144.3784 - mae: 10.6189 - val_loss: 117.6056 - val_mae: 9.0339\n",
            "Epoch 2/20\n",
            "80/80 [==============================] - 1s 10ms/step - loss: 93.4384 - mae: 8.2684 - val_loss: 70.4108 - val_mae: 6.8549\n",
            "Epoch 3/20\n",
            "80/80 [==============================] - 1s 8ms/step - loss: 35.9961 - mae: 5.0058 - val_loss: 26.8580 - val_mae: 3.7414\n",
            "Epoch 4/20\n",
            "80/80 [==============================] - 1s 8ms/step - loss: 16.7540 - mae: 3.2810 - val_loss: 22.2846 - val_mae: 3.1745\n",
            "Epoch 5/20\n",
            "80/80 [==============================] - 1s 10ms/step - loss: 15.1519 - mae: 3.1017 - val_loss: 20.5601 - val_mae: 3.0449\n",
            "Epoch 6/20\n",
            "80/80 [==============================] - 1s 18ms/step - loss: 13.9324 - mae: 2.9790 - val_loss: 19.0097 - val_mae: 2.9597\n",
            "Epoch 7/20\n",
            "80/80 [==============================] - 1s 7ms/step - loss: 13.0227 - mae: 2.8893 - val_loss: 17.7507 - val_mae: 2.8988\n",
            "Epoch 8/20\n",
            "80/80 [==============================] - 1s 7ms/step - loss: 12.3150 - mae: 2.8180 - val_loss: 16.7909 - val_mae: 2.8537\n",
            "Epoch 9/20\n",
            "80/80 [==============================] - 1s 9ms/step - loss: 11.7422 - mae: 2.7592 - val_loss: 16.0136 - val_mae: 2.8236\n",
            "Epoch 10/20\n",
            "80/80 [==============================] - 1s 7ms/step - loss: 11.2974 - mae: 2.7119 - val_loss: 15.3738 - val_mae: 2.7983\n",
            "Epoch 11/20\n",
            "80/80 [==============================] - 1s 6ms/step - loss: 10.9472 - mae: 2.6722 - val_loss: 14.8698 - val_mae: 2.7783\n",
            "Epoch 12/20\n",
            "80/80 [==============================] - 1s 10ms/step - loss: 10.6539 - mae: 2.6367 - val_loss: 14.5150 - val_mae: 2.7618\n",
            "Epoch 13/20\n",
            "80/80 [==============================] - 1s 10ms/step - loss: 10.4054 - mae: 2.6066 - val_loss: 14.1306 - val_mae: 2.7459\n",
            "Epoch 14/20\n",
            "80/80 [==============================] - 1s 6ms/step - loss: 10.1816 - mae: 2.5787 - val_loss: 13.8712 - val_mae: 2.7321\n",
            "Epoch 15/20\n",
            "80/80 [==============================] - 1s 7ms/step - loss: 9.9814 - mae: 2.5528 - val_loss: 13.6663 - val_mae: 2.7222\n",
            "Epoch 16/20\n",
            "80/80 [==============================] - 1s 7ms/step - loss: 9.8027 - mae: 2.5300 - val_loss: 13.5056 - val_mae: 2.7131\n",
            "Epoch 17/20\n",
            "80/80 [==============================] - 1s 8ms/step - loss: 9.6316 - mae: 2.5084 - val_loss: 13.3452 - val_mae: 2.7038\n",
            "Epoch 18/20\n",
            "80/80 [==============================] - 1s 10ms/step - loss: 9.4683 - mae: 2.4866 - val_loss: 13.2216 - val_mae: 2.6967\n",
            "Epoch 19/20\n",
            "80/80 [==============================] - 1s 7ms/step - loss: 9.3151 - mae: 2.4658 - val_loss: 13.1318 - val_mae: 2.6888\n",
            "Epoch 20/20\n",
            "80/80 [==============================] - 1s 7ms/step - loss: 9.1780 - mae: 2.4469 - val_loss: 13.0382 - val_mae: 2.6812\n"
          ]
        }
      ]
    },
    {
      "cell_type": "code",
      "source": [
        "# Plot MAE cures for validation and training\n",
        "plot_hist_regression(history_cnn, baseline)"
      ],
      "metadata": {
        "colab": {
          "base_uri": "https://localhost:8080/",
          "height": 283
        },
        "id": "6bB6lzLYSG-u",
        "outputId": "401610be-84f4-4584-c92f-66b00bbd414d"
      },
      "execution_count": 19,
      "outputs": [
        {
          "output_type": "display_data",
          "data": {
            "text/plain": [
              "<Figure size 432x288 with 1 Axes>"
            ],
            "image/png": "[encoded data removed]"
          },
          "metadata": {
            "needs_background": "light"
          }
        }
      ]
    },
    {
      "cell_type": "markdown",
      "source": [
        "This model isn't any better, with a validation MAE of 2.77 degrees (also worse than the 'common-sense approach' that we tried at first), and we're overfitting a bit too.\n",
        "\n",
        "Why?\n",
        "\n",
        "In timeseries, order matters a lot: the recent past is more informative than data from 5 days ago, and convolutional layers don't take advantage of this fact -- max pooling and global average pooling layers actually destroy this order information."
      ],
      "metadata": {
        "id": "Kc2iMPSHViL1"
      }
    },
    {
      "cell_type": "markdown",
      "metadata": {
        "id": "3ozUAZX__a0R"
      },
      "source": [
        "## Long Short Term Memory (LSTM) Neural Networks\n",
        "\n",
        "\n"
      ]
    },
    {
      "cell_type": "code",
      "execution_count": 20,
      "metadata": {
        "id": "2dWfiaUw_a0R",
        "colab": {
          "base_uri": "https://localhost:8080/"
        },
        "outputId": "b8b56825-1c5c-4c6e-f5a4-228602fa405b"
      },
      "outputs": [
        {
          "output_type": "stream",
          "name": "stdout",
          "text": [
            "Model: \"sequential_2\"\n",
            "_________________________________________________________________\n",
            " Layer (type)                Output Shape              Param #   \n",
            "=================================================================\n",
            " lstm (LSTM)                 (None, 20)                2160      \n",
            "                                                                 \n",
            " dense_3 (Dense)             (None, 1)                 21        \n",
            "                                                                 \n",
            "=================================================================\n",
            "Total params: 2,181\n",
            "Trainable params: 2,181\n",
            "Non-trainable params: 0\n",
            "_________________________________________________________________\n"
          ]
        }
      ],
      "source": [
        "# 1-layer LSTM\n",
        "\n",
        "model_lstm1 = models.Sequential()\n",
        "model_lstm1.add(layers.LSTM(20, input_shape=(sequence_length, len(df.columns)-1)))\n",
        "model_lstm1.add(layers.Dense(1))\n",
        "\n",
        "model_lstm1.summary()"
      ]
    },
    {
      "cell_type": "code",
      "source": [
        "n_epochs = 20"
      ],
      "metadata": {
        "id": "DMst2Mp0R0Xi"
      },
      "execution_count": 21,
      "outputs": []
    },
    {
      "cell_type": "code",
      "source": [
        "model_lstm1.compile(optimizer='rmsprop', loss='mse', metrics=['mae'])\n",
        "history_lstm1 = model_lstm1.fit(train_dataset, epochs=n_epochs,\n",
        "                            validation_data=val_dataset)"
      ],
      "metadata": {
        "colab": {
          "base_uri": "https://localhost:8080/"
        },
        "id": "Pff2tZQHXb-z",
        "outputId": "fe9c8dd8-f406-498c-f386-622c80c8c0e5"
      },
      "execution_count": 22,
      "outputs": [
        {
          "output_type": "stream",
          "name": "stdout",
          "text": [
            "Epoch 1/20\n",
            "80/80 [==============================] - 4s 19ms/step - loss: 134.9860 - mae: 10.4919 - val_loss: 111.8459 - val_mae: 9.4495\n",
            "Epoch 2/20\n",
            "80/80 [==============================] - 1s 13ms/step - loss: 79.2465 - mae: 7.7158 - val_loss: 53.8109 - val_mae: 5.9075\n",
            "Epoch 3/20\n",
            "80/80 [==============================] - 1s 11ms/step - loss: 43.8366 - mae: 5.4397 - val_loss: 38.0684 - val_mae: 4.8808\n",
            "Epoch 4/20\n",
            "80/80 [==============================] - 2s 20ms/step - loss: 32.2469 - mae: 4.6279 - val_loss: 30.0952 - val_mae: 4.3394\n",
            "Epoch 5/20\n",
            "80/80 [==============================] - 1s 12ms/step - loss: 25.5336 - mae: 4.1089 - val_loss: 24.7768 - val_mae: 3.9526\n",
            "Epoch 6/20\n",
            "80/80 [==============================] - 1s 12ms/step - loss: 20.7543 - mae: 3.6989 - val_loss: 20.8690 - val_mae: 3.6364\n",
            "Epoch 7/20\n",
            "80/80 [==============================] - 1s 12ms/step - loss: 17.1583 - mae: 3.3591 - val_loss: 17.8112 - val_mae: 3.3588\n",
            "Epoch 8/20\n",
            "80/80 [==============================] - 1s 16ms/step - loss: 14.3806 - mae: 3.0690 - val_loss: 15.3921 - val_mae: 3.1146\n",
            "Epoch 9/20\n",
            "80/80 [==============================] - 1s 14ms/step - loss: 12.2263 - mae: 2.8186 - val_loss: 13.4628 - val_mae: 2.9148\n",
            "Epoch 10/20\n",
            "80/80 [==============================] - 1s 12ms/step - loss: 10.5778 - mae: 2.6141 - val_loss: 11.9695 - val_mae: 2.7529\n",
            "Epoch 11/20\n",
            "80/80 [==============================] - 1s 13ms/step - loss: 9.2845 - mae: 2.4407 - val_loss: 10.8209 - val_mae: 2.6224\n",
            "Epoch 12/20\n",
            "80/80 [==============================] - 1s 12ms/step - loss: 8.3186 - mae: 2.3046 - val_loss: 9.9319 - val_mae: 2.5188\n",
            "Epoch 13/20\n",
            "80/80 [==============================] - 1s 13ms/step - loss: 7.5769 - mae: 2.2009 - val_loss: 9.2466 - val_mae: 2.4393\n",
            "Epoch 14/20\n",
            "80/80 [==============================] - 1s 12ms/step - loss: 7.0952 - mae: 2.1308 - val_loss: 8.7006 - val_mae: 2.3789\n",
            "Epoch 15/20\n",
            "80/80 [==============================] - 1s 13ms/step - loss: 6.6641 - mae: 2.0688 - val_loss: 8.2807 - val_mae: 2.3295\n",
            "Epoch 16/20\n",
            "80/80 [==============================] - 1s 12ms/step - loss: 6.4317 - mae: 2.0290 - val_loss: 7.9319 - val_mae: 2.2845\n",
            "Epoch 17/20\n",
            "80/80 [==============================] - 1s 12ms/step - loss: 6.1478 - mae: 1.9862 - val_loss: 7.6585 - val_mae: 2.2458\n",
            "Epoch 18/20\n",
            "80/80 [==============================] - 1s 14ms/step - loss: 5.9968 - mae: 1.9588 - val_loss: 7.4057 - val_mae: 2.2082\n",
            "Epoch 19/20\n",
            "80/80 [==============================] - 1s 12ms/step - loss: 5.7664 - mae: 1.9214 - val_loss: 7.2017 - val_mae: 2.1761\n",
            "Epoch 20/20\n",
            "80/80 [==============================] - 1s 13ms/step - loss: 5.6482 - mae: 1.8989 - val_loss: 7.0051 - val_mae: 2.1433\n"
          ]
        }
      ]
    },
    {
      "cell_type": "code",
      "source": [
        "# Plot MAE cures for validation and training\n",
        "plot_hist_regression(history_lstm1, baseline)\n"
      ],
      "metadata": {
        "colab": {
          "base_uri": "https://localhost:8080/",
          "height": 279
        },
        "id": "hr-bgDUvXmvS",
        "outputId": "a8ce58fc-ae63-46fa-ebb5-f2f647401bed"
      },
      "execution_count": 23,
      "outputs": [
        {
          "output_type": "display_data",
          "data": {
            "text/plain": [
              "<Figure size 432x288 with 1 Axes>"
            ],
            "image/png": "[encoded data removed]"
          },
          "metadata": {
            "needs_background": "light"
          }
        }
      ]
    },
    {
      "cell_type": "code",
      "source": [
        "print('Test MAE = %.2f degrees' % model_lstm1.evaluate(test_dataset)[1])"
      ],
      "metadata": {
        "colab": {
          "base_uri": "https://localhost:8080/"
        },
        "id": "0fFZvXXUcQ67",
        "outputId": "02b6e181-1554-47e1-d5a3-bb286c22030e"
      },
      "execution_count": 24,
      "outputs": [
        {
          "output_type": "stream",
          "name": "stdout",
          "text": [
            "31/31 [==============================] - 0s 5ms/step - loss: 7.5820 - mae: 2.1553\n",
            "Test MAE = 2.16 degrees\n"
          ]
        }
      ]
    },
    {
      "cell_type": "markdown",
      "source": [
        "Success! We finally beat the common-sense baseline! The validation MAE now is 2.12 degrees, and the test MAE is 2.27.\n",
        "\n",
        "Why do LSTM layers work? Let's go back to the slides"
      ],
      "metadata": {
        "id": "bYSWwI1aXvwL"
      }
    },
    {
      "cell_type": "code",
      "source": [
        "# Adding dropout\n",
        "\n",
        "model_lstm2 = models.Sequential()\n",
        "model_lstm2.add(layers.LSTM(20, input_shape=(sequence_length, len(df.columns)-1), recurrent_dropout=0.25))\n",
        "model_lstm2.add(layers.Dropout(0.4))\n",
        "model_lstm2.add(layers.Dense(1))\n",
        "\n",
        "model_lstm2.summary()"
      ],
      "metadata": {
        "id": "acSYakeOcokB",
        "colab": {
          "base_uri": "https://localhost:8080/"
        },
        "outputId": "0f260aea-219c-4c25-bca9-b3c1f6a04f98"
      },
      "execution_count": 25,
      "outputs": [
        {
          "output_type": "stream",
          "name": "stdout",
          "text": [
            "Model: \"sequential_3\"\n",
            "_________________________________________________________________\n",
            " Layer (type)                Output Shape              Param #   \n",
            "=================================================================\n",
            " lstm_1 (LSTM)               (None, 20)                2160      \n",
            "                                                                 \n",
            " dropout (Dropout)           (None, 20)                0         \n",
            "                                                                 \n",
            " dense_4 (Dense)             (None, 1)                 21        \n",
            "                                                                 \n",
            "=================================================================\n",
            "Total params: 2,181\n",
            "Trainable params: 2,181\n",
            "Non-trainable params: 0\n",
            "_________________________________________________________________\n"
          ]
        }
      ]
    },
    {
      "cell_type": "code",
      "source": [
        "model_lstm2.compile(optimizer='rmsprop', loss='mse', metrics=['mae'])\n",
        "history_lstm2 = model_lstm2.fit(train_dataset, epochs=n_epochs,\n",
        "                            validation_data=val_dataset)"
      ],
      "metadata": {
        "colab": {
          "base_uri": "https://localhost:8080/"
        },
        "id": "LvRnf9TWSWf9",
        "outputId": "c7976f85-727d-4ed7-ae05-e3c20ba2fd61"
      },
      "execution_count": 26,
      "outputs": [
        {
          "output_type": "stream",
          "name": "stdout",
          "text": [
            "Epoch 1/20\n",
            "80/80 [==============================] - 4s 20ms/step - loss: 138.2946 - mae: 10.5911 - val_loss: 116.8688 - val_mae: 9.6237\n",
            "Epoch 2/20\n",
            "80/80 [==============================] - 1s 17ms/step - loss: 89.6005 - mae: 8.2651 - val_loss: 61.1049 - val_mae: 6.3764\n",
            "Epoch 3/20\n",
            "80/80 [==============================] - 2s 22ms/step - loss: 52.0068 - mae: 5.9442 - val_loss: 42.0944 - val_mae: 5.1272\n",
            "Epoch 4/20\n",
            "80/80 [==============================] - 1s 17ms/step - loss: 39.7233 - mae: 5.1371 - val_loss: 33.3283 - val_mae: 4.5884\n",
            "Epoch 5/20\n",
            "80/80 [==============================] - 2s 22ms/step - loss: 31.5244 - mae: 4.5403 - val_loss: 27.4599 - val_mae: 4.1862\n",
            "Epoch 6/20\n",
            "80/80 [==============================] - 1s 18ms/step - loss: 26.3699 - mae: 4.1452 - val_loss: 23.6570 - val_mae: 3.9040\n",
            "Epoch 7/20\n",
            "80/80 [==============================] - 1s 18ms/step - loss: 23.5640 - mae: 3.8743 - val_loss: 19.5835 - val_mae: 3.5294\n",
            "Epoch 8/20\n",
            "80/80 [==============================] - 2s 21ms/step - loss: 20.3278 - mae: 3.5685 - val_loss: 17.3997 - val_mae: 3.3389\n",
            "Epoch 9/20\n",
            "80/80 [==============================] - 2s 20ms/step - loss: 18.5911 - mae: 3.4507 - val_loss: 15.0594 - val_mae: 3.0884\n",
            "Epoch 10/20\n",
            "80/80 [==============================] - 1s 19ms/step - loss: 16.6733 - mae: 3.2207 - val_loss: 13.4779 - val_mae: 2.9191\n",
            "Epoch 11/20\n",
            "80/80 [==============================] - 1s 17ms/step - loss: 15.1228 - mae: 3.0511 - val_loss: 11.7562 - val_mae: 2.7169\n",
            "Epoch 12/20\n",
            "80/80 [==============================] - 1s 19ms/step - loss: 14.7305 - mae: 3.0485 - val_loss: 10.6395 - val_mae: 2.5818\n",
            "Epoch 13/20\n",
            "80/80 [==============================] - 1s 16ms/step - loss: 13.5262 - mae: 2.9428 - val_loss: 9.9043 - val_mae: 2.4970\n",
            "Epoch 14/20\n",
            "80/80 [==============================] - 1s 17ms/step - loss: 12.7670 - mae: 2.8519 - val_loss: 9.2455 - val_mae: 2.4203\n",
            "Epoch 15/20\n",
            "80/80 [==============================] - 2s 20ms/step - loss: 12.6569 - mae: 2.8140 - val_loss: 8.9860 - val_mae: 2.3974\n",
            "Epoch 16/20\n",
            "80/80 [==============================] - 1s 17ms/step - loss: 12.0828 - mae: 2.8052 - val_loss: 8.4644 - val_mae: 2.3315\n",
            "Epoch 17/20\n",
            "80/80 [==============================] - 1s 17ms/step - loss: 11.6720 - mae: 2.7154 - val_loss: 8.2772 - val_mae: 2.3087\n",
            "Epoch 18/20\n",
            "80/80 [==============================] - 1s 18ms/step - loss: 12.2803 - mae: 2.7398 - val_loss: 7.7738 - val_mae: 2.2379\n",
            "Epoch 19/20\n",
            "80/80 [==============================] - 1s 17ms/step - loss: 11.3180 - mae: 2.6829 - val_loss: 7.5763 - val_mae: 2.2154\n",
            "Epoch 20/20\n",
            "80/80 [==============================] - 1s 18ms/step - loss: 11.0208 - mae: 2.6084 - val_loss: 7.3328 - val_mae: 2.1705\n"
          ]
        }
      ]
    },
    {
      "cell_type": "code",
      "source": [
        "# Plot MAE cures for validation and training\n",
        "plot_hist_regression(history_lstm2, baseline)"
      ],
      "metadata": {
        "colab": {
          "base_uri": "https://localhost:8080/",
          "height": 279
        },
        "id": "cWpm-j9iSck1",
        "outputId": "f2fb1e9a-09b6-40ab-cfc7-3e275f9805fc"
      },
      "execution_count": 27,
      "outputs": [
        {
          "output_type": "display_data",
          "data": {
            "text/plain": [
              "<Figure size 432x288 with 1 Axes>"
            ],
            "image/png": "[encoded data removed]"
          },
          "metadata": {
            "needs_background": "light"
          }
        }
      ]
    },
    {
      "cell_type": "code",
      "source": [
        "print('Test MAE = %.2f degrees' % model_lstm2.evaluate(test_dataset)[1])"
      ],
      "metadata": {
        "colab": {
          "base_uri": "https://localhost:8080/"
        },
        "id": "rAIQrQDVSmSM",
        "outputId": "0f562964-c00c-4da4-bbe0-4fd25a0b7efc"
      },
      "execution_count": 28,
      "outputs": [
        {
          "output_type": "stream",
          "name": "stdout",
          "text": [
            "31/31 [==============================] - 0s 6ms/step - loss: 8.2904 - mae: 2.2666\n",
            "Test MAE = 2.27 degrees\n"
          ]
        }
      ]
    },
    {
      "cell_type": "markdown",
      "source": [
        "Note that validation set MAE is now lower than MAE on training set -- no longer overfitting. Validation MAE is 2.16 and test MAE is also 2.16.\n",
        "\n",
        "NOTE: This is a very simple dataset with very small differences in performance between different models.  You'll just have to take my word for it that *in general* this approach works. "
      ],
      "metadata": {
        "id": "H3OrpvE3S4gM"
      }
    },
    {
      "cell_type": "code",
      "source": [
        "# Performance in the previous figure can (maybe) still be improved\n",
        "# Let's try to add some more layers -- we can do this now that we're no longer overfitting\n",
        "\n",
        "model_lstm3 = models.Sequential()\n",
        "model_lstm3.add(layers.LSTM(20, input_shape=(sequence_length, len(df.columns)-1), recurrent_dropout=0.25, return_sequences=True))  # NEW!\n",
        "model_lstm3.add(layers.LSTM(20, input_shape=(sequence_length, len(df.columns)-1), recurrent_dropout=0.25))  # NEW!!\n",
        "model_lstm3.add(layers.Dropout(0.4))\n",
        "model_lstm3.add(layers.Dense(1))\n",
        "model_lstm3.summary()"
      ],
      "metadata": {
        "colab": {
          "base_uri": "https://localhost:8080/"
        },
        "id": "jq_ZDTttTX6_",
        "outputId": "a67d1933-c0ff-4c94-80d6-a2f9e474c1c3"
      },
      "execution_count": 29,
      "outputs": [
        {
          "output_type": "stream",
          "name": "stdout",
          "text": [
            "Model: \"sequential_4\"\n",
            "_________________________________________________________________\n",
            " Layer (type)                Output Shape              Param #   \n",
            "=================================================================\n",
            " lstm_2 (LSTM)               (None, 14, 20)            2160      \n",
            "                                                                 \n",
            " lstm_3 (LSTM)               (None, 20)                3280      \n",
            "                                                                 \n",
            " dropout_1 (Dropout)         (None, 20)                0         \n",
            "                                                                 \n",
            " dense_5 (Dense)             (None, 1)                 21        \n",
            "                                                                 \n",
            "=================================================================\n",
            "Total params: 5,461\n",
            "Trainable params: 5,461\n",
            "Non-trainable params: 0\n",
            "_________________________________________________________________\n"
          ]
        }
      ]
    },
    {
      "cell_type": "code",
      "source": [
        "model_lstm3.compile(optimizer='rmsprop', loss='mse', metrics=['mae'])\n",
        "\n",
        "callbacks = [EarlyStopping(monitor='val_mae', patience=2)]\n",
        "\n",
        "history_lstm3 = model_lstm3.fit(train_dataset, epochs=60,  # increased number of epochs\n",
        "                            validation_data=val_dataset,\n",
        "                            callbacks=callbacks)  # but added early stopping callback\n"
      ],
      "metadata": {
        "colab": {
          "base_uri": "https://localhost:8080/"
        },
        "id": "9xQXChtNUxzh",
        "outputId": "f1009cf9-a656-4bb2-b52b-ae4cafe904b9"
      },
      "execution_count": 30,
      "outputs": [
        {
          "output_type": "stream",
          "name": "stdout",
          "text": [
            "Epoch 1/60\n",
            "80/80 [==============================] - 7s 33ms/step - loss: 121.3195 - mae: 9.7950 - val_loss: 80.9162 - val_mae: 7.5239\n",
            "Epoch 2/60\n",
            "80/80 [==============================] - 2s 27ms/step - loss: 64.4818 - mae: 6.7340 - val_loss: 49.8505 - val_mae: 5.5901\n",
            "Epoch 3/60\n",
            "80/80 [==============================] - 2s 27ms/step - loss: 45.4798 - mae: 5.5345 - val_loss: 39.5815 - val_mae: 4.9817\n",
            "Epoch 4/60\n",
            "80/80 [==============================] - 2s 31ms/step - loss: 37.4667 - mae: 4.9676 - val_loss: 32.6369 - val_mae: 4.5027\n",
            "Epoch 5/60\n",
            "80/80 [==============================] - 2s 28ms/step - loss: 30.5342 - mae: 4.4835 - val_loss: 27.1572 - val_mae: 4.0981\n",
            "Epoch 6/60\n",
            "80/80 [==============================] - 2s 28ms/step - loss: 27.0741 - mae: 4.1914 - val_loss: 24.4863 - val_mae: 3.9721\n",
            "Epoch 7/60\n",
            "80/80 [==============================] - 2s 27ms/step - loss: 23.6673 - mae: 3.8738 - val_loss: 22.6037 - val_mae: 3.8607\n",
            "Epoch 8/60\n",
            "80/80 [==============================] - 2s 28ms/step - loss: 20.9561 - mae: 3.6617 - val_loss: 18.1791 - val_mae: 3.3804\n",
            "Epoch 9/60\n",
            "80/80 [==============================] - 2s 28ms/step - loss: 19.2686 - mae: 3.5122 - val_loss: 16.5640 - val_mae: 3.2324\n",
            "Epoch 10/60\n",
            "80/80 [==============================] - 2s 31ms/step - loss: 17.1958 - mae: 3.3272 - val_loss: 15.5291 - val_mae: 3.1508\n",
            "Epoch 11/60\n",
            "80/80 [==============================] - 2s 27ms/step - loss: 16.9679 - mae: 3.3224 - val_loss: 13.8956 - val_mae: 2.9738\n",
            "Epoch 12/60\n",
            "80/80 [==============================] - 3s 34ms/step - loss: 14.9557 - mae: 3.0814 - val_loss: 12.2774 - val_mae: 2.7871\n",
            "Epoch 13/60\n",
            "80/80 [==============================] - 3s 32ms/step - loss: 14.2207 - mae: 2.9953 - val_loss: 11.4294 - val_mae: 2.6988\n",
            "Epoch 14/60\n",
            "80/80 [==============================] - 2s 29ms/step - loss: 13.3875 - mae: 2.9162 - val_loss: 11.7890 - val_mae: 2.7730\n",
            "Epoch 15/60\n",
            "80/80 [==============================] - 2s 27ms/step - loss: 12.7595 - mae: 2.8431 - val_loss: 9.7600 - val_mae: 2.4897\n",
            "Epoch 16/60\n",
            "80/80 [==============================] - 2s 28ms/step - loss: 12.4086 - mae: 2.7645 - val_loss: 10.1536 - val_mae: 2.5748\n",
            "Epoch 17/60\n",
            "80/80 [==============================] - 2s 27ms/step - loss: 11.6563 - mae: 2.7143 - val_loss: 10.1311 - val_mae: 2.5809\n"
          ]
        }
      ]
    },
    {
      "cell_type": "code",
      "source": [
        "# Plot MAE cures for validation and training\n",
        "plot_hist_regression(history_lstm3, baseline)\n",
        "print('Test MAE = %.2f degrees' % model_lstm3.evaluate(test_dataset)[1])"
      ],
      "metadata": {
        "colab": {
          "base_uri": "https://localhost:8080/",
          "height": 314
        },
        "id": "PtFfB3YaU4k3",
        "outputId": "1fdbf289-9f2f-4567-f7e2-05dfdd04233a"
      },
      "execution_count": 31,
      "outputs": [
        {
          "output_type": "display_data",
          "data": {
            "text/plain": [
              "<Figure size 432x288 with 1 Axes>"
            ],
            "image/png": "[encoded data removed]"
          },
          "metadata": {
            "needs_background": "light"
          }
        },
        {
          "output_type": "stream",
          "name": "stdout",
          "text": [
            "31/31 [==============================] - 0s 7ms/step - loss: 10.0238 - mae: 2.5093\n",
            "Test MAE = 2.51 degrees\n"
          ]
        }
      ]
    },
    {
      "cell_type": "markdown",
      "source": [
        "Validation MAE = 1.92 degrees\n",
        "\n",
        "Test MAE = 1.89 degrees\n"
      ],
      "metadata": {
        "id": "eUJqRqp1XJnL"
      }
    },
    {
      "cell_type": "markdown",
      "source": [
        "# Text"
      ],
      "metadata": {
        "id": "zGEuNqw2csXj"
      }
    },
    {
      "cell_type": "markdown",
      "source": [
        "## Data prep\n",
        "\n",
        "We'll try to predict whether the review for a movie is positive or negative looking only at the text of the review.\n",
        "\n",
        "We'll use the IMDB text dataset for this task, which is available on `keras.datasets` and described [here](https://keras.io/api/datasets/imdb/). \n",
        "\n",
        "We'll merge the training and test sets and use 60% for training, 20% for validation, and 20% for testing.\n",
        "\n",
        "\n",
        "As this is a binary classificationp problem, we'll use the binary cross entropy loss function. We will keep track of accuracy when training and evaluating the model.\n"
      ],
      "metadata": {
        "id": "dtv0EjsTbwvm"
      }
    },
    {
      "cell_type": "code",
      "source": [
        "def plot_hist_classif(hist):\n",
        "  n_ = len(hist.history['accuracy'])\n",
        "  plt.plot(range(1, n_+1), 100*np.asarray(hist.history['accuracy']), 'bo', label='Accuracy on training set')\n",
        "  plt.plot(range(1, n_+1), 100*np.asarray(hist.history['val_accuracy']), 'b', label='Accuracy on validation set')\n",
        "  plt.legend()\n",
        "  plt.xlabel(\"Epoch\") \n",
        "  plt.ylabel(\"Accuracy\")\n",
        "  plt.ylim(0, 100)\n",
        "  plt.axhline(y=50)\n",
        "  plt.show()\n"
      ],
      "metadata": {
        "id": "i-mH-8IGwGo1"
      },
      "execution_count": 32,
      "outputs": []
    },
    {
      "cell_type": "code",
      "source": [
        "max_features = 15000  # only consider the top 15k words\n",
        "maxlen = 500  # first 500 words of each review\n",
        "batch_size = 32\n",
        "\n",
        "print('Loading data...')\n",
        "# Load dataset\n",
        "(x_train, y_train), (x_test, y_test) = keras.datasets.imdb.load_data(num_words=max_features)\n",
        "print(len(x_train), 'train sequences', x_train.shape)\n",
        "print(len(x_test), 'test sequences', x_test.shape)"
      ],
      "metadata": {
        "colab": {
          "base_uri": "https://localhost:8080/"
        },
        "id": "4TW3Vg49n5V-",
        "outputId": "84bf69db-820f-4b18-9ec3-596dfc044a03"
      },
      "execution_count": 33,
      "outputs": [
        {
          "output_type": "stream",
          "name": "stdout",
          "text": [
            "Loading data...\n",
            "Downloading data from https://storage.googleapis.com/tensorflow/tf-keras-datasets/imdb.npz\n",
            "17465344/17464789 [==============================] - 0s 0us/step\n",
            "17473536/17464789 [==============================] - 0s 0us/step\n",
            "25000 train sequences (25000,)\n",
            "25000 test sequences (25000,)\n"
          ]
        }
      ]
    },
    {
      "cell_type": "code",
      "source": [
        "# How balanced is this dataset?\n",
        "print(np.sum(y_train)/len(y_train))\n",
        "print(np.sum(y_test)/len(y_test))"
      ],
      "metadata": {
        "colab": {
          "base_uri": "https://localhost:8080/"
        },
        "id": "8ApTb-jYtSOm",
        "outputId": "7dba7ab8-a71a-4dc1-d45b-d7c7437b5a84"
      },
      "execution_count": 34,
      "outputs": [
        {
          "output_type": "stream",
          "name": "stdout",
          "text": [
            "0.5\n",
            "0.5\n"
          ]
        }
      ]
    },
    {
      "cell_type": "code",
      "source": [
        "# Merge the two datasets and divide: 60% for training, 20% validation, 20% test\n",
        "x_, y_ = np.concatenate((x_train, x_test)), np.concatenate((y_train, y_test))\n",
        "print(x_.shape, y_.shape)\n",
        "x_train, x_test, y_train, y_test = train_test_split(x_, y_, test_size=0.4, random_state=10)  # 60/40 split\n",
        "x_val, x_test, y_val, y_test = train_test_split(x_test, y_test, test_size=0.5, random_state=10)  # 50/50 split\n",
        "print(len(x_train), 'train sequences', x_train.shape)\n",
        "print(len(x_val), 'validation sequences', x_val.shape)\n",
        "print(len(x_test), 'test sequences', x_test.shape)"
      ],
      "metadata": {
        "colab": {
          "base_uri": "https://localhost:8080/"
        },
        "id": "Z53Fbicqr8tm",
        "outputId": "5c775c35-50d1-46e7-b8e2-1c0722769339"
      },
      "execution_count": 35,
      "outputs": [
        {
          "output_type": "stream",
          "name": "stdout",
          "text": [
            "(50000,) (50000,)\n",
            "30000 train sequences (30000,)\n",
            "10000 validation sequences (10000,)\n",
            "10000 test sequences (10000,)\n"
          ]
        }
      ]
    },
    {
      "cell_type": "code",
      "source": [
        "x_train[0][:10]  # numbers!!"
      ],
      "metadata": {
        "colab": {
          "base_uri": "https://localhost:8080/"
        },
        "id": "5v_Hy-r8o8pR",
        "outputId": "4236ded8-0b9a-4252-d7a5-3c9d808e4d4a"
      },
      "execution_count": 36,
      "outputs": [
        {
          "output_type": "execute_result",
          "data": {
            "text/plain": [
              "[1, 11531, 186, 8, 28, 6, 6482, 7, 269, 4042]"
            ]
          },
          "metadata": {},
          "execution_count": 36
        }
      ]
    },
    {
      "cell_type": "code",
      "source": [
        "# We can explore what one of the reviews looks like at this point.\n",
        "\n",
        "# Retrieve the word index file that maps words to indices\n",
        "word_index = keras.datasets.imdb.get_word_index()\n",
        "# Reverse the word index to obtain a dict mapping indices to words (which is what we have)\n",
        "inverted_word_index = dict((i, word) for (word, i) in word_index.items())\n",
        "# Decode the first sequence in the dataset\n",
        "decoded_sequence = \" \".join(inverted_word_index[i] for i in x_train[0])\n",
        "decoded_sequence"
      ],
      "metadata": {
        "colab": {
          "base_uri": "https://localhost:8080/",
          "height": 122
        },
        "id": "rgEgNSLBpFwh",
        "outputId": "0e4f2023-70da-4d02-fe53-b5fe768c9507"
      },
      "execution_count": 37,
      "outputs": [
        {
          "output_type": "stream",
          "name": "stdout",
          "text": [
            "Downloading data from https://storage.googleapis.com/tensorflow/tf-keras-datasets/imdb_word_index.json\n",
            "1646592/1641221 [==============================] - 0s 0us/step\n",
            "1654784/1641221 [==============================] - 0s 0us/step\n"
          ]
        },
        {
          "output_type": "execute_result",
          "data": {
            "text/plain": [
              "\"the lilly horror in one is fatale br looks meaningless in bronson be showing as you debut film ample to and ingredients zombi ample they for series and thought she's all manipulate and believing in j show look early last quote desire tight interesting that's kind out is far shelter but of frame br and\""
            ],
            "application/vnd.google.colaboratory.intrinsic+json": {
              "type": "string"
            }
          },
          "metadata": {},
          "execution_count": 37
        }
      ]
    },
    {
      "cell_type": "code",
      "source": [
        "# Let's ensure all sequences have the same length through padding\n",
        "# - shorter reviews are padded with 0's\n",
        "# - longer reviews are cut\n",
        "print('Pad sequences')\n",
        "x_train = keras.preprocessing.sequence.pad_sequences(x_train, maxlen=maxlen)\n",
        "x_val = keras.preprocessing.sequence.pad_sequences(x_val, maxlen=maxlen)\n",
        "x_test = keras.preprocessing.sequence.pad_sequences(x_test, maxlen=maxlen)\n",
        "print('x_train shape:', x_train.shape)\n",
        "print('x_val shape:', x_val.shape)\n",
        "print('x_test shape:', x_test.shape)"
      ],
      "metadata": {
        "colab": {
          "base_uri": "https://localhost:8080/"
        },
        "id": "ibmO0V-gcthG",
        "outputId": "7518e363-cda8-4530-c91f-a7cb23caab1b"
      },
      "execution_count": 38,
      "outputs": [
        {
          "output_type": "stream",
          "name": "stdout",
          "text": [
            "Pad sequences\n",
            "x_train shape: (30000, 500)\n",
            "x_val shape: (10000, 500)\n",
            "x_test shape: (10000, 500)\n"
          ]
        }
      ]
    },
    {
      "cell_type": "code",
      "source": [
        "# Basic feedforward model\n",
        "model = models.Sequential()\n",
        "model.add(layers.Embedding(max_features, 128, input_length=maxlen))\n",
        "model.add(layers.Dense(64, activation='relu'))\n",
        "model.add(layers.Dropout(0.5))\n",
        "model.add(layers.Dense(64, activation='relu'))\n",
        "model.add(layers.Dropout(0.5))\n",
        "model.add(layers.Flatten())\n",
        "model.add(layers.Dense(1, activation=\"sigmoid\"))\n",
        "model.summary()"
      ],
      "metadata": {
        "colab": {
          "base_uri": "https://localhost:8080/"
        },
        "id": "sBpQpwBAk44H",
        "outputId": "254f9724-80f7-4080-f636-782d13d65ecc"
      },
      "execution_count": 39,
      "outputs": [
        {
          "output_type": "stream",
          "name": "stdout",
          "text": [
            "Model: \"sequential_5\"\n",
            "_________________________________________________________________\n",
            " Layer (type)                Output Shape              Param #   \n",
            "=================================================================\n",
            " embedding (Embedding)       (None, 500, 128)          1920000   \n",
            "                                                                 \n",
            " dense_6 (Dense)             (None, 500, 64)           8256      \n",
            "                                                                 \n",
            " dropout_2 (Dropout)         (None, 500, 64)           0         \n",
            "                                                                 \n",
            " dense_7 (Dense)             (None, 500, 64)           4160      \n",
            "                                                                 \n",
            " dropout_3 (Dropout)         (None, 500, 64)           0         \n",
            "                                                                 \n",
            " flatten_1 (Flatten)         (None, 32000)             0         \n",
            "                                                                 \n",
            " dense_8 (Dense)             (None, 1)                 32001     \n",
            "                                                                 \n",
            "=================================================================\n",
            "Total params: 1,964,417\n",
            "Trainable params: 1,964,417\n",
            "Non-trainable params: 0\n",
            "_________________________________________________________________\n"
          ]
        }
      ]
    },
    {
      "cell_type": "code",
      "source": [
        "model.compile(optimizer=\"rmsprop\", loss=\"binary_crossentropy\", metrics=[\"accuracy\"])\n",
        "history = model.fit(x_train, y_train, batch_size=batch_size, epochs=20, validation_data=(x_val, y_val))"
      ],
      "metadata": {
        "colab": {
          "base_uri": "https://localhost:8080/"
        },
        "id": "-8c7tCS5vrC3",
        "outputId": "8ecbc48e-cd12-4e06-be24-7ec65aed6bfe"
      },
      "execution_count": 40,
      "outputs": [
        {
          "metadata": {
            "tags": null
          },
          "name": "stdout",
          "output_type": "stream",
          "text": [
            "Epoch 1/20\n",
            "938/938 [==============================] - 70s 74ms/step - loss: 0.4405 - accuracy: 0.7644 - val_loss: 0.2709 - val_accuracy: 0.8886\n",
            "Epoch 2/20\n",
            "938/938 [==============================] - 68s 72ms/step - loss: 0.2441 - accuracy: 0.9032 - val_loss: 0.2597 - val_accuracy: 0.8977\n",
            "Epoch 3/20\n",
            "938/938 [==============================] - 67s 72ms/step - loss: 0.2118 - accuracy: 0.9189 - val_loss: 0.2563 - val_accuracy: 0.8995\n",
            "Epoch 4/20\n",
            "938/938 [==============================] - 69s 74ms/step - loss: 0.1913 - accuracy: 0.9265 - val_loss: 0.2651 - val_accuracy: 0.8954\n",
            "Epoch 5/20\n",
            "938/938 [==============================] - 68s 73ms/step - loss: 0.1814 - accuracy: 0.9304 - val_loss: 0.2885 - val_accuracy: 0.8883\n",
            "Epoch 6/20\n",
            "938/938 [==============================] - 69s 73ms/step - loss: 0.1707 - accuracy: 0.9353 - val_loss: 0.3070 - val_accuracy: 0.8837\n",
            "Epoch 7/20\n",
            "938/938 [==============================] - 69s 74ms/step - loss: 0.1632 - accuracy: 0.9386 - val_loss: 0.5012 - val_accuracy: 0.8159\n",
            "Epoch 8/20\n",
            "938/938 [==============================] - 75s 80ms/step - loss: 0.1566 - accuracy: 0.9427 - val_loss: 0.3801 - val_accuracy: 0.8612\n",
            "Epoch 9/20\n",
            "938/938 [==============================] - 75s 80ms/step - loss: 0.1486 - accuracy: 0.9433 - val_loss: 0.2855 - val_accuracy: 0.8942\n",
            "Epoch 10/20\n",
            "938/938 [==============================] - 75s 80ms/step - loss: 0.1410 - accuracy: 0.9467 - val_loss: 0.3984 - val_accuracy: 0.8594\n",
            "Epoch 11/20\n",
            "938/938 [==============================] - 74s 79ms/step - loss: 0.1406 - accuracy: 0.9487 - val_loss: 0.3347 - val_accuracy: 0.8825\n",
            "Epoch 12/20\n",
            "938/938 [==============================] - 75s 80ms/step - loss: 0.1330 - accuracy: 0.9505 - val_loss: 0.3575 - val_accuracy: 0.8751\n",
            "Epoch 13/20\n",
            "938/938 [==============================] - 73s 78ms/step - loss: 0.1275 - accuracy: 0.9530 - val_loss: 0.4367 - val_accuracy: 0.8527\n",
            "Epoch 14/20\n",
            "938/938 [==============================] - 74s 79ms/step - loss: 0.1237 - accuracy: 0.9556 - val_loss: 0.4047 - val_accuracy: 0.8636\n",
            "Epoch 15/20\n",
            "938/938 [==============================] - 69s 74ms/step - loss: 0.1123 - accuracy: 0.9594 - val_loss: 0.4998 - val_accuracy: 0.8407\n",
            "Epoch 16/20\n",
            "938/938 [==============================] - 69s 74ms/step - loss: 0.1079 - accuracy: 0.9611 - val_loss: 0.3645 - val_accuracy: 0.8781\n",
            "Epoch 17/20\n",
            "938/938 [==============================] - 67s 72ms/step - loss: 0.1043 - accuracy: 0.9611 - val_loss: 0.4337 - val_accuracy: 0.8660\n",
            "Epoch 18/20\n",
            "938/938 [==============================] - 70s 75ms/step - loss: 0.1002 - accuracy: 0.9634 - val_loss: 0.3718 - val_accuracy: 0.8826\n",
            "Epoch 19/20\n",
            "938/938 [==============================] - 70s 75ms/step - loss: 0.1010 - accuracy: 0.9651 - val_loss: 0.3853 - val_accuracy: 0.8778\n",
            "Epoch 20/20\n",
            "938/938 [==============================] - 78s 83ms/step - loss: 0.0928 - accuracy: 0.9675 - val_loss: 0.5414 - val_accuracy: 0.8544\n"
          ]
        }
      ]
    },
    {
      "cell_type": "code",
      "source": [
        "plot_hist_classif(history)\n",
        "print('Test Accuracy = %.2f' % model.evaluate(x_test, y_test)[1])  # overfitting!"
      ],
      "metadata": {
        "colab": {
          "base_uri": "https://localhost:8080/",
          "height": 318
        },
        "id": "dKBVw5mHv_oX",
        "outputId": "5017249f-5c97-4d57-f0d1-ffaafb5fdaff"
      },
      "execution_count": 41,
      "outputs": [
        {
          "output_type": "display_data",
          "data": {
            "text/plain": [
              "<Figure size 432x288 with 1 Axes>"
            ],
            "image/png": "[encoded data removed]"
          },
          "metadata": {
            "needs_background": "light"
          }
        },
        {
          "output_type": "stream",
          "name": "stdout",
          "text": [
            "313/313 [==============================] - 4s 14ms/step - loss: 0.5373 - accuracy: 0.8531\n",
            "Test Accuracy = 0.85\n"
          ]
        }
      ]
    },
    {
      "cell_type": "code",
      "source": [
        "# Let's try an RNN\n",
        "model = models.Sequential()\n",
        "model.add(layers.Embedding(max_features, 64))\n",
        "model.add(layers.LSTM(128, return_sequences=False))\n",
        "model.add(layers.Dropout(0.5))\n",
        "model.add(layers.Dense(1, activation=\"sigmoid\"))\n",
        "model.compile(optimizer=\"rmsprop\", loss=\"binary_crossentropy\", metrics=[\"accuracy\"])\n",
        "model.summary()"
      ],
      "metadata": {
        "colab": {
          "base_uri": "https://localhost:8080/"
        },
        "id": "Ieh7Wl9Pwh8V",
        "outputId": "f6bc7b44-f0b2-4948-fa3c-85eff47480ee"
      },
      "execution_count": 42,
      "outputs": [
        {
          "output_type": "stream",
          "name": "stdout",
          "text": [
            "Model: \"sequential_6\"\n",
            "_________________________________________________________________\n",
            " Layer (type)                Output Shape              Param #   \n",
            "=================================================================\n",
            " embedding_1 (Embedding)     (None, None, 64)          960000    \n",
            "                                                                 \n",
            " lstm_4 (LSTM)               (None, 128)               98816     \n",
            "                                                                 \n",
            " dropout_4 (Dropout)         (None, 128)               0         \n",
            "                                                                 \n",
            " dense_9 (Dense)             (None, 1)                 129       \n",
            "                                                                 \n",
            "=================================================================\n",
            "Total params: 1,058,945\n",
            "Trainable params: 1,058,945\n",
            "Non-trainable params: 0\n",
            "_________________________________________________________________\n"
          ]
        }
      ]
    },
    {
      "cell_type": "code",
      "source": [
        "# This model will take a long time to train, so we add an early stopping criterion\n",
        "# N.B: It's actually much faster to train WITHOUT A GPU!!\n",
        "callbacks = [EarlyStopping(monitor='val_accuracy', patience=2)]\n",
        "history = model.fit(x_train, y_train, batch_size=batch_size, epochs=20, validation_data=(x_val, y_val), callbacks=callbacks)\n",
        "plot_hist_classif(history)\n",
        "print('Test Accuracy = %.2f' % model.evaluate(x_test, y_test)[1])\n",
        "# Note that we're still overfitting, but this is just an example of use"
      ],
      "metadata": {
        "colab": {
          "base_uri": "https://localhost:8080/",
          "height": 630
        },
        "id": "Sd54xZMmxKBQ",
        "outputId": "05772cfe-0793-4dce-835a-c690c9a7972f"
      },
      "execution_count": 43,
      "outputs": [
        {
          "metadata": {
            "tags": null
          },
          "name": "stdout",
          "output_type": "stream",
          "text": [
            "Epoch 1/20\n",
            "938/938 [==============================] - 546s 579ms/step - loss: 0.4290 - accuracy: 0.8134 - val_loss: 0.3645 - val_accuracy: 0.8567\n",
            "Epoch 2/20\n",
            "938/938 [==============================] - 525s 560ms/step - loss: 0.2817 - accuracy: 0.8898 - val_loss: 0.3394 - val_accuracy: 0.8578\n",
            "Epoch 3/20\n",
            "938/938 [==============================] - 520s 554ms/step - loss: 0.2378 - accuracy: 0.9114 - val_loss: 0.2603 - val_accuracy: 0.8964\n",
            "Epoch 4/20\n",
            "938/938 [==============================] - 518s 552ms/step - loss: 0.2079 - accuracy: 0.9243 - val_loss: 0.2753 - val_accuracy: 0.8906\n",
            "Epoch 5/20\n",
            "938/938 [==============================] - 514s 548ms/step - loss: 0.1845 - accuracy: 0.9336 - val_loss: 0.2404 - val_accuracy: 0.9045\n",
            "Epoch 6/20\n",
            "938/938 [==============================] - 515s 550ms/step - loss: 0.1647 - accuracy: 0.9421 - val_loss: 0.3080 - val_accuracy: 0.8652\n",
            "Epoch 7/20\n",
            "938/938 [==============================] - 519s 554ms/step - loss: 0.1478 - accuracy: 0.9483 - val_loss: 0.2457 - val_accuracy: 0.9049\n",
            "Epoch 8/20\n",
            "938/938 [==============================] - 511s 544ms/step - loss: 0.1293 - accuracy: 0.9562 - val_loss: 0.2706 - val_accuracy: 0.9023\n",
            "Epoch 9/20\n",
            "938/938 [==============================] - 508s 541ms/step - loss: 0.1162 - accuracy: 0.9601 - val_loss: 0.3017 - val_accuracy: 0.8876\n"
          ]
        },
        {
          "data": {
            "image/png": "[encoded data removed]",
            "text/plain": [
              "<Figure size 432x288 with 1 Axes>"
            ]
          },
          "metadata": {},
          "output_type": "display_data"
        },
        {
          "output_type": "stream",
          "name": "stdout",
          "text": [
            "313/313 [==============================] - 41s 130ms/step - loss: 0.2990 - accuracy: 0.8905\n",
            "Test Accuracy = 0.89\n"
          ]
        }
      ]
    },
    {
      "cell_type": "markdown",
      "source": [
        "## Your turn!\n",
        "\n",
        "Implement a bidirectional RNN that can outperform the LSTM model we had above.\n",
        "\n",
        "A starting skeleton could be:\n",
        " \n",
        "*   Embedding layer with an output dimension of 64\n",
        "*   Bidirectional layer with a 32-neuron LSTM layer\n",
        "*   Dense layer with 1 neuron and a sigmoid activation\n",
        "\n",
        "Some suggestions:\n",
        "\n",
        "- Change the sizes of the layers (i.e., the numbers of neurons)\n",
        "- Add dropout\n",
        "- Add other recurrent and/or bidirectional layers\n",
        "\n",
        "Once you have a model that scores over 90% on the validation set, check its performance on the test set and upload it on the code checker in Moodle.\n",
        "\n",
        "Note that the model I'm suggesting above will be able to reach the desired performance, but it will show signs of overfitting. Can you do it by adding regularization (dropout, smaller network) so you don't overfit?\n"
      ],
      "metadata": {
        "id": "kzZhXm5gkz_g"
      }
    },
    {
      "cell_type": "code",
      "source": [
        "n_ = 10  # number of epochs. You can edit this\n",
        "\n",
        "model = models.Sequential()\n",
        "# YOUR CODE HERE!\n",
        "\n",
        "model.add(layers.Embedding(max_features, 64))\n",
        "model.add(layers.Bidirectional(layers.LSTM(32, return_sequences=True)))\n",
        "model.add(layers.Bidirectional(layers.LSTM(20)))\n",
        "model.add(layers.Dropout(0.5))\n",
        "model.add(layers.Dense(1, activation=\"sigmoid\"))\n",
        "# I DON'T RECOMMEND THAT YOU CHANGE CODE AFTER THIS POINT\n",
        "model.compile(optimizer=\"rmsprop\", loss=\"binary_crossentropy\", metrics=[\"accuracy\"])\n",
        "\n",
        "print(model.summary())\n",
        "\n",
        "# This model will take a long time to train, so we add an early stopping criterion\n",
        "# I've also added a ModelCheckpoint that will save the best model according to val_accuracy regardless of whether we continue training\n",
        "callbacks = [EarlyStopping(monitor='val_accuracy', patience=1),\n",
        "             ModelCheckpoint(\"model.keras\", save_best_only=True, monitor=\"val_accuracy\", mode='max')]\n",
        "\n",
        "history = model.fit(x_train, y_train, batch_size=batch_size, epochs=n_, \n",
        "                    validation_data=(x_val, y_val), \n",
        "                    callbacks=callbacks)\n",
        "plot_hist_classif(history)\n",
        "model = keras.models.load_model(\"model.keras\")\n",
        "print('Test Accuracy = %.2f' % model.evaluate(x_test, y_test)[1])"
      ],
      "metadata": {
        "id": "jCHOC7dyadaj",
        "outputId": "22fd85ff-9758-4ca4-a2e6-43aa243c7d0a",
        "colab": {
          "base_uri": "https://localhost:8080/",
          "height": 908
        }
      },
      "execution_count": 44,
      "outputs": [
        {
          "output_type": "stream",
          "name": "stdout",
          "text": [
            "Model: \"sequential_7\"\n",
            "_________________________________________________________________\n",
            " Layer (type)                Output Shape              Param #   \n",
            "=================================================================\n",
            " embedding_2 (Embedding)     (None, None, 64)          960000    \n",
            "                                                                 \n",
            " bidirectional (Bidirectiona  (None, None, 64)         24832     \n",
            " l)                                                              \n",
            "                                                                 \n",
            " bidirectional_1 (Bidirectio  (None, 40)               13600     \n",
            " nal)                                                            \n",
            "                                                                 \n",
            " dropout_5 (Dropout)         (None, 40)                0         \n",
            "                                                                 \n",
            " dense_10 (Dense)            (None, 1)                 41        \n",
            "                                                                 \n",
            "=================================================================\n",
            "Total params: 998,473\n",
            "Trainable params: 998,473\n",
            "Non-trainable params: 0\n",
            "_________________________________________________________________\n",
            "None\n",
            "Epoch 1/10\n",
            "938/938 [==============================] - 673s 708ms/step - loss: 0.4011 - accuracy: 0.8263 - val_loss: 0.3520 - val_accuracy: 0.8538\n",
            "Epoch 2/10\n",
            "938/938 [==============================] - 663s 707ms/step - loss: 0.2584 - accuracy: 0.9032 - val_loss: 0.2891 - val_accuracy: 0.8916\n",
            "Epoch 3/10\n",
            "938/938 [==============================] - 655s 698ms/step - loss: 0.2157 - accuracy: 0.9246 - val_loss: 0.2820 - val_accuracy: 0.8931\n",
            "Epoch 4/10\n",
            "938/938 [==============================] - 652s 695ms/step - loss: 0.1894 - accuracy: 0.9343 - val_loss: 0.2762 - val_accuracy: 0.9004\n",
            "Epoch 5/10\n",
            "938/938 [==============================] - 650s 693ms/step - loss: 0.1612 - accuracy: 0.9444 - val_loss: 0.2842 - val_accuracy: 0.9009\n",
            "Epoch 6/10\n",
            "938/938 [==============================] - 654s 697ms/step - loss: 0.1447 - accuracy: 0.9526 - val_loss: 0.3089 - val_accuracy: 0.8921\n"
          ]
        },
        {
          "output_type": "display_data",
          "data": {
            "text/plain": [
              "<Figure size 432x288 with 1 Axes>"
            ],
            "image/png": "[encoded data removed]"
          },
          "metadata": {
            "needs_background": "light"
          }
        },
        {
          "output_type": "stream",
          "name": "stdout",
          "text": [
            "313/313 [==============================] - 38s 116ms/step - loss: 0.2747 - accuracy: 0.9018\n",
            "Test Accuracy = 0.90\n"
          ]
        }
      ]
    },
    {
      "cell_type": "code",
      "source": [
        "if model.count_params() > 1000000:\n",
        "    print(\"Due to memory constraints on Moodle, the lab quiz has a 10MB limit on your model size, so you need to use a smaller model to validate through the auto-marker.\")\n",
        "print(history.history[\"val_accuracy\"][-1])\n",
        "if history.history[\"val_accuracy\"][-1] >= 0.88:\n",
        "    print(\"Your model is accurate enough!\")\n",
        "    keras.models.save_model(model, \"/content/drive/My Drive/Data_Science_and_Decision_Making/LAB8/\" + \"Model5.h5\",save_format='h5')\n",
        "    print('Model saved! You can now upload it to the lab quiz.')\n",
        "\n",
        "else:\n",
        "    print(\"Accuracy is below the threshold!\")\n",
        "# Save the model into a local folder\n"
      ],
      "metadata": {
        "id": "ZFBmg66_CR7y",
        "outputId": "7a8c0cf3-25dc-4c65-b9e2-1f3c47a4afa7",
        "colab": {
          "base_uri": "https://localhost:8080/"
        }
      },
      "execution_count": 58,
      "outputs": [
        {
          "output_type": "stream",
          "name": "stdout",
          "text": [
            "0.8920999765396118\n",
            "Your model is accurate enough!\n",
            "Model saved! You can now upload it to the lab quiz.\n"
          ]
        }
      ]
    },
    {
      "cell_type": "code",
      "source": [
        "\n",
        "#Question  1\n",
        "import numpy as np\n",
        "\n",
        "\n",
        "def activation_sigmoid(x):\n",
        "    # Implement the sigmoid function https://en.wikipedia.org/wiki/Sigmoid_function\n",
        "    h = 1/ (1+np.exp(-x))# YOUR CODE HERE\n",
        "    return h\n",
        "\n",
        "\n",
        "\n",
        "def forward(sequence, W, U):\n",
        "    \"\"\" Forward step of a SimpleRNN layer.\n",
        "    # Assume that sequence is a rank-2 tensor of shape (timesteps, input_features)\n",
        "    # W, and U are rank-2 tensors of shape (output_feat, input_feat) and (output_feat, output_feat) respectively\n",
        "    \"\"\"\n",
        "    # 1. Initialise state as a list\n",
        "    state = [np.zeros(W.shape[0],)]\n",
        "    # 2. Iterate through the elements of the sequence. \n",
        "    # For each element, calculate the new state through the equation from slide 11 (using activation_sigmoid as the activation function) and append it to the state list\n",
        "    # Use np.dot to do the vector-matrix multiplications\n",
        "    prev_state =0\n",
        "    \n",
        "    for input_t in sequence:\n",
        "        z1=np.dot(W,state[prev_state])\n",
        "        z2=np.dot(U,input_t)\n",
        "        output_t=activation_sigmoid(z1+z2)\n",
        "        state.append(output_t)\n",
        "        prev_state=prev_state+1\n",
        "    \n",
        "    # 3. Return the final output\n",
        "    return np.stack(state, axis=0)\n"
      ],
      "metadata": {
        "id": "hv7PyBQQsXav"
      },
      "execution_count": null,
      "outputs": []
    }
  ],
  "metadata": {
    "kernelspec": {
      "display_name": "Python 3",
      "language": "python",
      "name": "python3"
    },
    "language_info": {
      "codemirror_mode": {
        "name": "ipython",
        "version": 3
      },
      "file_extension": ".py",
      "mimetype": "text/x-python",
      "name": "python",
      "nbconvert_exporter": "python",
      "pygments_lexer": "ipython3",
      "version": "3.7.10"
    },
    "colab": {
      "name": "rnn.ipynb",
      "provenance": [],
      "collapsed_sections": [
        "WlhjIvZR_a0Q",
        "rloJamyvWPWj",
        "7c-duA1Z_a0R",
        "3ozUAZX__a0R"
      ],
      "include_colab_link": true
    }
  },
  "nbformat": 4,
  "nbformat_minor": 0
}
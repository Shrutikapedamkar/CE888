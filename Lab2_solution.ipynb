{
  "nbformat": 4,
  "nbformat_minor": 0,
  "metadata": {
    "colab": {
      "name": "Copy of Copy of bootstrap.ipynb",
      "provenance": [],
      "collapsed_sections": [],
      "include_colab_link": true
    },
    "kernelspec": {
      "display_name": "Python 3",
      "language": "python",
      "name": "python3"
    },
    "language_info": {
      "codemirror_mode": {
        "name": "ipython",
        "version": 3
      },
      "file_extension": ".py",
      "mimetype": "text/x-python",
      "name": "python",
      "nbconvert_exporter": "python",
      "pygments_lexer": "ipython3",
      "version": "3.7.6"
    },
    "pycharm": {
      "stem_cell": {
        "cell_type": "raw",
        "metadata": {
          "collapsed": false
        },
        "source": []
      }
    }
  },
  "cells": [
    {
      "cell_type": "markdown",
      "metadata": {
        "id": "view-in-github",
        "colab_type": "text"
      },
      "source": [
        "<a href=\"https://colab.research.google.com/github/Shrutikapedamkar/CE888/blob/main/Lab2_solution.ipynb\" target=\"_parent\"><img src=\"https://colab.research.google.com/assets/colab-badge.svg\" alt=\"Open In Colab\"/></a>"
      ]
    },
    {
      "cell_type": "markdown",
      "metadata": {
        "id": "nCi_99yMYIb1"
      },
      "source": [
        "In this notebook you'll create your own bootstrap function following the bootstrap algorithm (check the lecture notes!)"
      ]
    },
    {
      "cell_type": "code",
      "metadata": {
        "id": "LY5zujI2YC37",
        "pycharm": {
          "name": "#%%# Imports\n"
        }
      },
      "source": [
        "import matplotlib\n",
        "import pandas as pd\n",
        "import seaborn as sns\n",
        "import numpy as np\n",
        "\n"
      ],
      "execution_count": null,
      "outputs": []
    },
    {
      "cell_type": "code",
      "metadata": {
        "id": "Eqkwj4SMY38t"
      },
      "source": [
        "# Load the data\n",
        "df = pd.read_csv('https://raw.githubusercontent.com/albanda/CE888/master/lab2%20-%20bootstrap/customers.csv')\n",
        "data = df.values.T[1]"
      ],
      "execution_count": null,
      "outputs": []
    },
    {
      "cell_type": "code",
      "metadata": {
        "id": "Gxvc_bScYC4H",
        "pycharm": {
          "name": "#%%\n"
        }
      },
      "source": [
        "# Checking the notes from the lecture, create here your own bootstrap function:\n",
        "# 1. Sample from the input array x to create an array of samples of shape (n_bootstraps, sample_size)\n",
        "# Hint: Check the function random.choice() on Numpy\n",
        "# 2. Calculate and save the mean of the array (this is \"data_mean\" that is returned by the function)\n",
        "# 3. Calculate the mean from each bootstrap (i.e., row) and store it.\n",
        "# (This should be an array of n_bootstraps values)\n",
        "# 4. Calculate the lower and upper bounds for a 95% CI (hint: check the percentile function on Numpy)\n",
        "# 5. Return data_mean, and the lower and upper bounds of your interval\n",
        "def bootstrap_mean(x, sample_size, n_bootstraps):\n",
        "\t# <---INSERT YOUR CODE HERE--->\n",
        "\tboot_array=np.random.choice(x, size=(n_bootstraps,sample_size))\n",
        "\tmean_bootarray=boot_array.mean(axis=1)\n",
        "\tsort_meanbootarray = np.sort(mean_bootarray)\n",
        "\tdata_mean=np.mean(sort_meanbootarray)\n",
        "\tlower=np.percentile(sort_meanbootarray,2.5)\n",
        "\tupper=np.percentile(sort_meanbootarray,97.5)\n",
        "\treturn data_mean, lower, upper\n"
      ],
      "execution_count": null,
      "outputs": []
    },
    {
      "cell_type": "code",
      "metadata": {
        "id": "AN7sEOcMYC4P",
        "pycharm": {
          "name": "#%%\n"
        },
        "outputId": "5a76f41b-7d9b-43ac-b0a8-54c1cb78de8f",
        "colab": {
          "base_uri": "https://localhost:8080/",
          "height": 441
        }
      },
      "source": [
        "# Call your bootstrap function and plot the results\n",
        "\n",
        "boots = []\n",
        "for i in range(100, 50000, 1000):\n",
        "    boot = bootstrap_mean(data, data.shape[0], i)\n",
        "    boots.append([i, boot[0], \"mean\"])\n",
        "    boots.append([i, boot[1], \"lower\"])\n",
        "    boots.append([i, boot[2], \"upper\"])\n",
        "\n",
        "df_boot = pd.DataFrame(boots, columns=['Bootstrap Iterations', 'Mean', \"Value\"])\n",
        "sns_plot = sns.lmplot(df_boot.columns[0], df_boot.columns[1], data=df_boot, fit_reg=False, hue=\"Value\")\n",
        "\n",
        "sns_plot.axes[0, 0].set_ylim(0,)\n",
        "sns_plot.axes[0, 0].set_xlim(0, 50000)\n"
      ],
      "execution_count": null,
      "outputs": [
        {
          "output_type": "stream",
          "name": "stderr",
          "text": [
            "/usr/local/lib/python3.7/dist-packages/seaborn/_decorators.py:43: FutureWarning: Pass the following variables as keyword args: x, y. From version 0.12, the only valid positional argument will be `data`, and passing other arguments without an explicit keyword will result in an error or misinterpretation.\n",
            "  FutureWarning\n"
          ]
        },
        {
          "output_type": "execute_result",
          "data": {
            "text/plain": [
              "(0.0, 50000.0)"
            ]
          },
          "metadata": {},
          "execution_count": 5
        },
        {
          "output_type": "display_data",
          "data": {
            "image/png": "[encoded data removed]",
            "text/plain": [
              "<Figure size 425.125x360 with 1 Axes>"
            ]
          },
          "metadata": {
            "needs_background": "light"
          }
        }
      ]
    },
    {
      "cell_type": "markdown",
      "metadata": {
        "id": "MjtP4e2_YC4V"
      },
      "source": [
        "\n",
        "Now, modify the bootstrap function you created above so that you can pass your desired confidence interval as a parameter.\n",
        "\n"
      ]
    },
    {
      "cell_type": "code",
      "source": [
        "print(df.shape)\n",
        "print(df.median())\n",
        "sample_size=5\n",
        "n_bootstraps=10\n",
        "d_array= np.random.choice(data, size=(sample_size, n_bootstraps))\n",
        "print(d_array)"
      ],
      "metadata": {
        "id": "-N3NIAFHnmMf",
        "outputId": "101cb95f-c13f-4372-b5d8-17d1a1216795",
        "colab": {
          "base_uri": "https://localhost:8080/"
        }
      },
      "execution_count": null,
      "outputs": [
        {
          "output_type": "stream",
          "name": "stdout",
          "text": [
            "(14, 2)\n",
            "Day                            7.5\n",
            " Millons of pounds in sales    8.5\n",
            "dtype: float64\n",
            "[[ 9. 20. 22. 22. 10. 20.  9.  9.  7.  8.]\n",
            " [20.  9.  8.  2. 10.  5. 20. 10.  9. 20.]\n",
            " [ 7. 10.  8.  8. 10. 22.  9. 10. 20. 20.]\n",
            " [ 4.  9. 10.  2. 10. 10. 20.  8.  9.  7.]\n",
            " [ 7. 13.  2.  9.  8.  4.  9.  7.  8.  8.]]\n"
          ]
        }
      ]
    },
    {
      "cell_type": "code",
      "metadata": {
        "id": "3K9j0FuGYhHs"
      },
      "source": [
        "def bootstrap_mean_ci(sample, sample_size, n_bootstraps, ci):\n",
        "\t# <---INSERT YOUR CODE HERE--->\n",
        "\tboot_array=np.random.choice(sample, size=(n_bootstraps,sample_size))\n",
        "\tmean_bootarray=np.nanmean(boot_array,axis=1)\n",
        "\tsort_meanbootarray =np.sort(mean_bootarray)\n",
        "\tdata_mean=np.mean(sort_meanbootarray)\n",
        "\tci_lower=(100-ci)/2\n",
        "\tci_upper=100-ci_lower\n",
        "\tlower=np.percentile(sort_meanbootarray,ci_lower)\n",
        "\tupper=np.percentile(sort_meanbootarray,ci_upper)\n",
        " \n",
        "\treturn data_mean, lower, upper"
      ],
      "execution_count": null,
      "outputs": []
    },
    {
      "cell_type": "code",
      "source": [
        "def bootstrap_sd_ci(sample, sample_size, n_bootstraps, ci):\n",
        "\t# <---INSERT YOUR CODE HERE--->\n",
        "    d_array = np.random.choice(sample,size=(n_bootstraps,sample_size))\n",
        "    d_std_arr = np.std(d_array, axis=1)\n",
        "    d_std_arr_sort = np.sort(d_std_arr)\n",
        "    data_std = np.std(d_std_arr_sort)\n",
        "    lower_ci = (100-ci)/2\n",
        "    upper_ci = 100-lower_ci\n",
        "    lower = np.percentile(d_std_arr_sort, lower_ci)\n",
        "    upper = np.percentile(d_std_arr_sort, upper_ci)\n",
        "    return data_std, lower, upper\n"
      ],
      "metadata": {
        "id": "Pj8MxtBWBC43"
      },
      "execution_count": 31,
      "outputs": []
    },
    {
      "cell_type": "code",
      "metadata": {
        "id": "uDnjq08GYl-C",
        "outputId": "2de1fb67-bc99-4a4f-997e-e84e8a42a9f5",
        "colab": {
          "base_uri": "https://localhost:8080/",
          "height": 441
        }
      },
      "source": [
        "boots = []\n",
        "for i in range(100, 50000, 1000):\n",
        "    boot = bootstrap_mean_ci(data, data.shape[0], i, 95)\n",
        "    boots.append([i, boot[0], \"mean\"])\n",
        "    boots.append([i, boot[1], \"lower\"])\n",
        "    boots.append([i, boot[2], \"upper\"])\n",
        "\n",
        "df_boot = pd.DataFrame(boots, columns=['Boostrap Iterations', 'Mean', \"Value\"])\n",
        "sns_plot = sns.lmplot(df_boot.columns[0], df_boot.columns[1], data=df_boot, fit_reg=False, hue=\"Value\")\n",
        "\n",
        "sns_plot.axes[0, 0].set_ylim(0,)\n",
        "sns_plot.axes[0, 0].set_xlim(0, 50000)\n",
        "\n",
        "#sns_plot.savefig(\"bootstrap_confidence_80.pdf\", bbox_inches='tight')\n"
      ],
      "execution_count": null,
      "outputs": [
        {
          "output_type": "stream",
          "name": "stderr",
          "text": [
            "/usr/local/lib/python3.7/dist-packages/seaborn/_decorators.py:43: FutureWarning: Pass the following variables as keyword args: x, y. From version 0.12, the only valid positional argument will be `data`, and passing other arguments without an explicit keyword will result in an error or misinterpretation.\n",
            "  FutureWarning\n"
          ]
        },
        {
          "output_type": "execute_result",
          "data": {
            "text/plain": [
              "(0.0, 50000.0)"
            ]
          },
          "metadata": {},
          "execution_count": 9
        },
        {
          "output_type": "display_data",
          "data": {
            "image/png": "[encoded data removed]",
            "text/plain": [
              "<Figure size 425.125x360 with 1 Axes>"
            ]
          },
          "metadata": {
            "needs_background": "light"
          }
        }
      ]
    },
    {
      "cell_type": "markdown",
      "metadata": {
        "id": "qjNgXW6wdd7r"
      },
      "source": [
        "# Vehicles dataset\n",
        "\n",
        "Now let's work on a different dataset, which is stored in the vehicles.csv file.\n"
      ]
    },
    {
      "cell_type": "code",
      "metadata": {
        "id": "avWv4ipFdpka",
        "outputId": "1560a43c-67df-4ec9-f594-7af6cf8818ef",
        "colab": {
          "base_uri": "https://localhost:8080/",
          "height": 828
        }
      },
      "source": [
        "# Load and visualise the vehicles dataset\n",
        "# To load the dataset: https://neptune.ai/blog/google-colab-dealing-with-files (check section \"Load individual files directly from GitHub\")\n",
        "df_vehicles = pd.read_csv('https://raw.githubusercontent.com/albanda/CE888/master/lab2%20-%20bootstrap/vehicles.csv')\n",
        "df_vehicles.insert(0, 'Car_ID', range(1, 1 + len(df_vehicles)))\n",
        "\n",
        "\n",
        "# Note that the current and new fleets are in different columns and have different lengths, so bear this in mind when you're plotting.\n",
        "# You can create separate scatterplots for the two fleets, as you would with the histograms, \n",
        "# or plot them both in one plot (but not one against the other).\n",
        "sns.lmplot(df_vehicles.columns[0],df_vehicles.columns[1], data=df_vehicles, fit_reg=False)\n",
        "sns.lmplot(df_vehicles.columns[0],df_vehicles.columns[2], data=df_vehicles, fit_reg=False)\n",
        "\n",
        "# <---INSERT YOUR CODE HERE--->\n",
        "# Note: you can add more cells as needed to organise your code and your plots\n"
      ],
      "execution_count": null,
      "outputs": [
        {
          "output_type": "stream",
          "name": "stderr",
          "text": [
            "/usr/local/lib/python3.7/dist-packages/seaborn/_decorators.py:43: FutureWarning: Pass the following variables as keyword args: x, y. From version 0.12, the only valid positional argument will be `data`, and passing other arguments without an explicit keyword will result in an error or misinterpretation.\n",
            "  FutureWarning\n",
            "/usr/local/lib/python3.7/dist-packages/seaborn/_decorators.py:43: FutureWarning: Pass the following variables as keyword args: x, y. From version 0.12, the only valid positional argument will be `data`, and passing other arguments without an explicit keyword will result in an error or misinterpretation.\n",
            "  FutureWarning\n"
          ]
        },
        {
          "output_type": "execute_result",
          "data": {
            "text/plain": [
              "<seaborn.axisgrid.FacetGrid at 0x7fbcfc488d10>"
            ]
          },
          "metadata": {},
          "execution_count": 10
        },
        {
          "output_type": "display_data",
          "data": {
            "image/png": "[encoded data removed]",
            "text/plain": [
              "<Figure size 360x360 with 1 Axes>"
            ]
          },
          "metadata": {
            "needs_background": "light"
          }
        },
        {
          "output_type": "display_data",
          "data": {
            "image/png": "[encoded data removed]",
            "text/plain": [
              "<Figure size 360x360 with 1 Axes>"
            ]
          },
          "metadata": {
            "needs_background": "light"
          }
        }
      ]
    },
    {
      "cell_type": "markdown",
      "metadata": {
        "id": "B5d0tXDpIEj8"
      },
      "source": [
        "## Compare the two fleets\n",
        "\n",
        "The business analysts come up a comparison algorithm that requires the upper and lower bounds for the mean in order to say which fleet is better.\n",
        "1. Calculate the mean of both samples.\n",
        "2. Using the bootstrap function that you created:\n",
        "    - Construct the 95% CI of the mean of the current fleet.\n",
        "    - Construct the 95% CI of the mean of the new fleet.\n",
        "    - Are they comparable? (i.e., is one better than the other?) -- you can do this with a permutation test (check the lecture notes!)"
      ]
    },
    {
      "cell_type": "code",
      "metadata": {
        "id": "po4mp6zRHC0m",
        "colab": {
          "base_uri": "https://localhost:8080/"
        },
        "outputId": "f3584fe9-df35-4321-8951-500fdca2d9a7"
      },
      "source": [
        "# <---INSERT YOUR CODE HERE--->\n",
        "df_mean=df_vehicles.mean(axis=0, skipna=True)\n",
        "print(df_mean)\n",
        "datamean_current, lower_current, upper_current=bootstrap_mean_ci(df_vehicles.iloc[:,1], 15, 15, 95)\n",
        "print(datamean_current, lower_current, upper_current)\n",
        "print(df_vehicles)\n",
        "sample=df_vehicles.iloc[:,2].dropna()\n",
        "print(sample)\n",
        "datamean_new, lower_new, upper_new=bootstrap_mean_ci(sample,15,15,95)\n",
        "print(datamean_new, lower_new, upper_new)"
      ],
      "execution_count": null,
      "outputs": [
        {
          "output_type": "stream",
          "name": "stdout",
          "text": [
            "Car_ID           125.000000\n",
            "Current fleet     20.144578\n",
            "New Fleet         30.481013\n",
            "dtype: float64\n",
            "20.737777777777776 18.18 23.433333333333334\n",
            "     Car_ID  Current fleet  New Fleet\n",
            "0         1             18       24.0\n",
            "1         2             15       27.0\n",
            "2         3             18       27.0\n",
            "3         4             16       25.0\n",
            "4         5             17       31.0\n",
            "..      ...            ...        ...\n",
            "244     245             27        NaN\n",
            "245     246             27        NaN\n",
            "246     247             32        NaN\n",
            "247     248             28        NaN\n",
            "248     249             31        NaN\n",
            "\n",
            "[249 rows x 3 columns]\n",
            "0     24.0\n",
            "1     27.0\n",
            "2     27.0\n",
            "3     25.0\n",
            "4     31.0\n",
            "      ... \n",
            "74    34.0\n",
            "75    38.0\n",
            "76    32.0\n",
            "77    38.0\n",
            "78    32.0\n",
            "Name: New Fleet, Length: 79, dtype: float64\n",
            "30.43555555555556 28.00333333333333 32.27333333333333\n"
          ]
        }
      ]
    },
    {
      "cell_type": "code",
      "metadata": {
        "id": "MkxvDZG4HC0n"
      },
      "source": [
        "# Create your own function for a permutation test here (you will need it for the lab quiz!):\n",
        "def permut_test(sample1, sample2, n_permutations):\n",
        "    \"\"\"\n",
        "    sample1: 1D array\n",
        "    sample2: 1D array (note that the size of the two arrays can be different)\n",
        "    n_permutations: number of permutations to calculate the p-value\n",
        "    \"\"\"\n",
        "    tobs = np.mean(sample2)-np.mean(sample1)\n",
        "\n",
        "    concat = np.concatenate((sample1, sample2))\n",
        "    count=0    \n",
        "    for i in range(n_permutations):\n",
        "        perm = np.random.permutation(concat)\n",
        "        pold = perm[:int(len(perm)/2)]\n",
        "        pnew = perm[int(len(perm)/2):]\n",
        "        tperm = np.mean(pnew)-np.mean(pold)\n",
        "        if tperm>tobs:\n",
        "            count+=1\n",
        "    pvalue = count/n_permutations\n",
        "    return pvalue, tperm, tobs"
      ],
      "execution_count": null,
      "outputs": []
    },
    {
      "cell_type": "code",
      "source": [
        "current_old_data = df_vehicles.iloc[:,1]\n",
        "print(df_vehicles)\n",
        "new_data = df_vehicles.iloc[:,2]\n",
        "print(new_data)\n",
        "\n",
        "\n",
        "# sample1 = [0,0,0,1,1,1,1,1,0,0,0]\n",
        "# sample2 = [1,1,1,1,1,1,1,1,1,0,0,0,0,1,0,1,0]\n",
        "\n",
        "pvalue = permut_test(current_old_data, new_data, 30000)\n",
        "print(pvalue)"
      ],
      "metadata": {
        "colab": {
          "base_uri": "https://localhost:8080/"
        },
        "id": "ttLau-2zErzc",
        "outputId": "447a07b5-828f-4fcd-f316-5c815b536313"
      },
      "execution_count": null,
      "outputs": [
        {
          "output_type": "stream",
          "name": "stdout",
          "text": [
            "     Car_ID  Current fleet  New Fleet\n",
            "0         1             18       24.0\n",
            "1         2             15       27.0\n",
            "2         3             18       27.0\n",
            "3         4             16       25.0\n",
            "4         5             17       31.0\n",
            "..      ...            ...        ...\n",
            "244     245             27        NaN\n",
            "245     246             27        NaN\n",
            "246     247             32        NaN\n",
            "247     248             28        NaN\n",
            "248     249             31        NaN\n",
            "\n",
            "[249 rows x 3 columns]\n",
            "0      24.0\n",
            "1      27.0\n",
            "2      27.0\n",
            "3      25.0\n",
            "4      31.0\n",
            "       ... \n",
            "244     NaN\n",
            "245     NaN\n",
            "246     NaN\n",
            "247     NaN\n",
            "248     NaN\n",
            "Name: New Fleet, Length: 249, dtype: float64\n",
            "(0.0, nan, 10.336434344974837)\n"
          ]
        }
      ]
    },
    {
      "cell_type": "markdown",
      "source": [
        "**LAB 2 QUIZ**"
      ],
      "metadata": {
        "id": "jteOZcC_65FL"
      }
    },
    {
      "cell_type": "code",
      "source": [
        "# 2.The 92% confidence interval for the mean of the old fleet in the vehicles dataset using 10000 iterations is (Answer, Answer). \n",
        "# Give your answer including the first two decimal points (e.g., 1.23).\n",
        "bootstrap_mean_ci(current_old_data,current_old_data.shape[0],10000,92)\n"
      ],
      "metadata": {
        "id": "yjYBFltr7FP3",
        "colab": {
          "base_uri": "https://localhost:8080/"
        },
        "outputId": "60cd0c3d-771d-4889-903b-e51431dd2bbc"
      },
      "execution_count": 27,
      "outputs": [
        {
          "output_type": "execute_result",
          "data": {
            "text/plain": [
              "(20.14797951807229, 19.457831325301203, 20.87550200803213)"
            ]
          },
          "metadata": {},
          "execution_count": 27
        }
      ]
    },
    {
      "cell_type": "code",
      "source": [
        "#The 80% confidence interval for the mean of the old fleet in the vehicles dataset using 10000 iterations is\n",
        "bootstrap_mean_ci(new_data, new_data.shape[0],10000,80)"
      ],
      "metadata": {
        "colab": {
          "base_uri": "https://localhost:8080/"
        },
        "id": "-zLHhnXbzSOw",
        "outputId": "312fbd60-05bc-4b3c-af81-f3c05f74310b"
      },
      "execution_count": 28,
      "outputs": [
        {
          "output_type": "execute_result",
          "data": {
            "text/plain": [
              "(30.483661912305887, 29.607361758827448, 31.36470588235294)"
            ]
          },
          "metadata": {},
          "execution_count": 28
        }
      ]
    },
    {
      "cell_type": "code",
      "source": [
        "#The 99% confidence interval for the standard deviation of the new fleet in the vehicles dataset using 10000 iterations is\n",
        "bootstrap_sd_ci(new_data,new_data.shape[0],10000,99)"
      ],
      "metadata": {
        "colab": {
          "base_uri": "https://localhost:8080/"
        },
        "id": "hEKTDuFMrY80",
        "outputId": "6f354359-99c0-4c0a-f2f9-3fa571201bb0"
      },
      "execution_count": 33,
      "outputs": [
        {
          "output_type": "execute_result",
          "data": {
            "text/plain": [
              "(nan, nan, nan)"
            ]
          },
          "metadata": {},
          "execution_count": 33
        }
      ]
    },
    {
      "cell_type": "code",
      "source": [
        "#The 73% confidence interval for the standard deviation of the new fleet in the vehicles dataset using 10000\n",
        "bootstrap_sd_ci(current_old_data,current_old_data.shape[0],10000,73)"
      ],
      "metadata": {
        "colab": {
          "base_uri": "https://localhost:8080/"
        },
        "id": "SZ-RhQBNq4AC",
        "outputId": "a0e14d78-00f9-4592-a990-344e1b8289d0"
      },
      "execution_count": 32,
      "outputs": [
        {
          "output_type": "execute_result",
          "data": {
            "text/plain": [
              "(0.29098432726302487, 6.05887138168994, 6.706939589313435)"
            ]
          },
          "metadata": {},
          "execution_count": 32
        }
      ]
    },
    {
      "cell_type": "code",
      "source": [
        "#The 73% confidence interval for the standard deviation of the old fleet in the vehicles dataset using 10000 iterations\n",
        "bootstrap_sd_ci(current_old_data,current_old_data.shape[0],10000,73)"
      ],
      "metadata": {
        "colab": {
          "base_uri": "https://localhost:8080/"
        },
        "id": "Es5VBxQWu7Lc",
        "outputId": "f13e0040-cdc5-4ca2-f8db-a5924490cbdb"
      },
      "execution_count": null,
      "outputs": [
        {
          "output_type": "execute_result",
          "data": {
            "text/plain": [
              "(0.2929831295701176, 6.055102254714206, 6.700841026548926)"
            ]
          },
          "metadata": {},
          "execution_count": 25
        }
      ]
    },
    {
      "cell_type": "markdown",
      "source": [
        "Voting data"
      ],
      "metadata": {
        "id": "gC4dk_Lvu6uh"
      }
    },
    {
      "cell_type": "code",
      "source": [
        "dem_share_PA = [60.08, 40.64, 36.07, 41.21, 31.04, 43.78, 44.08, 46.85, 44.71, 46.15, 63.10, 52.20, 43.18, 40.24, 39.92, 47.87, 37.77, 40.11, 49.85, 48.61, 38.62, 54.25, 34.84, 47.75, 43.82, 55.97, 58.23, 42.97, 42.38, 36.11, 37.53, 42.65, 50.96, 47.43, 56.24, 45.60, 46.39, 35.22, 48.56, 32.97, 57.88, 36.05, 37.72, 50.36, 32.12, 41.55, 54.66, 57.81, 54.58, 32.88, 54.37, 40.45, 47.61, 60.49, 43.11, 27.32, 44.03, 33.56, 37.26, 54.64, 43.12, 25.34, 49.79, 83.56, 40.09, 60.81, 49.81]\n",
        "dem_share_OH = [56.94, 50.46, 65.99, 45.88, 42.23, 45.26, 57.01, 53.61, 59.10, 61.48, 43.43, 44.69, 54.59, 48.36, 45.89, 48.62, 43.92, 38.23, 28.79, 63.57, 38.07, 40.18, 43.05, 41.56, 42.49, 36.06, 52.76, 46.07, 39.43, 39.26, 47.47, 27.92, 38.01, 45.45, 29.07, 28.94, 51.28, 50.10, 39.84, 36.43, 35.71, 31.47, 47.01, 40.10, 48.76, 31.56, 39.86, 45.31, 35.47, 51.38, 46.33, 48.73, 41.77, 41.32, 48.46, 53.14, 34.01, 54.74, 40.67, 38.96, 46.29, 38.25, 6.80, 31.75, 46.33, 44.90, 33.57, 38.10, 39.67, 40.47, 49.44, 37.62, 36.71, 46.73, 42.20, 53.16, 52.40, 58.36, 68.02, 38.53, 34.58, 69.64, 60.50, 53.53, 36.54, 49.58, 41.97, 38.11]\n",
        "\n",
        "print(len(dem_share_PA))\n",
        "print(len(dem_share_OH))\n",
        "\n",
        "data_mean_new, lower_new, upper_new = bootstrap_mean_ci(dem_share_OH, 15, 20000, 98)\n",
        "print(data_mean_new, lower_new, upper_new)\n",
        "\n",
        "data_mean_new, lower_new, upper_new = bootstrap_mean_ci(dem_share_PA, 15, 20000, 98)\n",
        "print(data_mean_new, lower_new, upper_new)\n",
        "\n",
        "pvalue = permut_test(dem_share_PA, dem_share_OH, 30000)\n",
        "print(pvalue)"
      ],
      "metadata": {
        "colab": {
          "base_uri": "https://localhost:8080/"
        },
        "id": "9t34MnDa4o-x",
        "outputId": "afcd0c3d-ed21-4d21-ca75-78e909c1bcba"
      },
      "execution_count": 36,
      "outputs": [
        {
          "output_type": "stream",
          "name": "stdout",
          "text": [
            "67\n",
            "88\n",
            "44.32005726666667 38.13992666666667 50.260726666666656\n",
            "45.4735662 39.9973 51.75533999999999\n",
            "(0.7655333333333333, 1.5688544788544831, -1.1582360922659447)\n"
          ]
        }
      ]
    }
  ]
}